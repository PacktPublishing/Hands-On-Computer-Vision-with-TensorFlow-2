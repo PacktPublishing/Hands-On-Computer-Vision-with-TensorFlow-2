{
 "cells": [
  {
   "cell_type": "code",
   "execution_count": 1,
   "metadata": {
    "ExecuteTime": {
     "end_time": "2019-01-02T03:41:27.607671Z",
     "start_time": "2019-01-02T03:41:26.750477Z"
    },
    "collapsed": true
   },
   "outputs": [],
   "source": [
    "import tensorflow as tf\n",
    "import numpy as np"
   ]
  },
  {
   "cell_type": "code",
   "execution_count": 2,
   "metadata": {
    "ExecuteTime": {
     "end_time": "2019-01-02T03:41:27.963287Z",
     "start_time": "2019-01-02T03:41:27.608499Z"
    },
    "collapsed": true
   },
   "outputs": [],
   "source": [
    "num_classes = 10\n",
    "img_rows, img_cols = 28, 28\n",
    "input_shape = (img_rows, img_cols, 1)\n",
    "\n",
    "\n",
    "(x_train, y_train),(x_test, y_test) = tf.keras.datasets.mnist.load_data()\n",
    "x_train, x_test = x_train / 255.0, x_test / 255.0\n",
    "\n",
    "x_train = x_train.reshape(x_train.shape[0], img_rows, img_cols, 1)\n",
    "x_test = x_test.reshape(x_test.shape[0], img_rows, img_cols, 1)\n",
    "y_test = tf.keras.utils.to_categorical(y_test)\n",
    "y_train = tf.keras.utils.to_categorical(y_train)"
   ]
  },
  {
   "cell_type": "code",
   "execution_count": 3,
   "metadata": {
    "ExecuteTime": {
     "end_time": "2019-01-02T03:41:28.024470Z",
     "start_time": "2019-01-02T03:41:27.964331Z"
    }
   },
   "outputs": [],
   "source": [
    "x = tf.placeholder(tf.float32, shape = (None, img_rows, img_cols, 1))\n",
    "y = tf.placeholder(tf.float32, shape = (None, num_classes))\n",
    "\n",
    "weight_initializer =  tf.glorot_uniform_initializer()\n",
    "\n",
    "num_filters = 32\n",
    "# First convolution layer\n",
    "with tf.variable_scope(\"conv1\", reuse=tf.AUTO_REUSE):\n",
    "    filter_shape = [3, 3, 1, num_filters]\n",
    "    W_conv1 = tf.get_variable(\"W\", shape=filter_shape, initializer=weight_initializer)\n",
    "    b_conv1 = tf.get_variable(\"b\", shape=[num_filters], initializer=tf.zeros_initializer)\n",
    "    conv2d = tf.nn.conv2d(x, W_conv1, strides = [1, 1, 1, 1], padding = 'VALID')\n",
    "    activation_conv1 = tf.nn.relu(conv2d + b_conv1)\n",
    "\n",
    "# Max pooling\n",
    "pool2d = tf.nn.max_pool(activation_conv1, ksize=[1, 2, 2, 1], strides = [1, 2, 2, 1], padding = 'VALID')\n",
    "\n",
    "# Flatten\n",
    "flatten = tf.layers.flatten(pool2d)\n",
    "\n",
    "# Dense layer 1\n",
    "num_hidden = 128\n",
    "with tf.variable_scope(\"dense1\", reuse=tf.AUTO_REUSE):\n",
    "    matrix_shape = [32 * 13 * 13, num_hidden]\n",
    "    W_dense1 = tf.get_variable(\"W_dense1\", shape=matrix_shape, initializer=weight_initializer)\n",
    "    b_dense1 = tf.get_variable(\"b_dense1\", shape=[num_hidden], initializer=tf.zeros_initializer)\n",
    "\n",
    "    dense1 = tf.nn.relu(tf.matmul(flatten, W_dense1) + b_dense1)\n",
    "\n",
    "# Dense layer 2\n",
    "with tf.variable_scope(\"dense2\", reuse=tf.AUTO_REUSE):\n",
    "    matrix_shape = [num_hidden, num_classes]\n",
    "    W_dense2 = tf.get_variable(\"W_dense2\", shape=matrix_shape, initializer=weight_initializer)\n",
    "    b_dense2 = tf.get_variable(\"b_dense2\", shape=[num_classes], initializer=tf.zeros_initializer)\n",
    "\n",
    "    output = tf.nn.softmax(tf.matmul(dense1, W_dense2) + b_dense2)"
   ]
  },
  {
   "cell_type": "code",
   "execution_count": 4,
   "metadata": {
    "ExecuteTime": {
     "end_time": "2019-01-02T03:41:28.142311Z",
     "start_time": "2019-01-02T03:41:28.025567Z"
    },
    "collapsed": true
   },
   "outputs": [],
   "source": [
    "cross_entropy = tf.reduce_mean(tf.nn.softmax_cross_entropy_with_logits_v2(labels=output, logits=y))\n",
    "# Same values as Keras defaults\n",
    "train_step = tf.train.AdamOptimizer(1e-3).minimize(cross_entropy)\n",
    "correct_prediction = tf.equal(tf.argmax(output, 1), tf.argmax(y,1))\n",
    "accuracy = tf.reduce_mean(tf.cast(correct_prediction, tf.float32))\n"
   ]
  },
  {
   "cell_type": "code",
   "execution_count": 5,
   "metadata": {
    "ExecuteTime": {
     "end_time": "2019-01-02T03:41:28.246837Z",
     "start_time": "2019-01-02T03:41:28.235394Z"
    },
    "collapsed": true
   },
   "outputs": [],
   "source": [
    "def batch_data(source, target, batch_size):\n",
    "   # Shuffle data\n",
    "    shuffle_indices = np.random.permutation(np.arange(len(target)))\n",
    "    source = source[shuffle_indices]\n",
    "    target = target[shuffle_indices]\n",
    "    while True:\n",
    "        for batch_i in range(0, len(source)//batch_size):\n",
    "            start_i = batch_i * batch_size\n",
    "            source_batch = source[start_i:start_i + batch_size]\n",
    "            target_batch = target[start_i:start_i + batch_size]\n",
    "\n",
    "            yield np.array(source_batch), np.array(target_batch)"
   ]
  },
  {
   "cell_type": "code",
   "execution_count": 6,
   "metadata": {
    "ExecuteTime": {
     "end_time": "2019-01-02T03:41:45.950330Z",
     "start_time": "2019-01-02T03:41:29.104640Z"
    }
   },
   "outputs": [
    {
     "name": "stdout",
     "output_type": "stream",
     "text": [
      "step 9999, training accuracy 0.9816\n"
     ]
    }
   ],
   "source": [
    "batch_size = 20\n",
    "num_steps = 10**4\n",
    "batch_generator = batch_data(x_train, y_train, batch_size)\n",
    "\n",
    "with tf.Session() as sess:\n",
    "    sess.run(tf.global_variables_initializer())\n",
    "\n",
    "    for i in range(num_steps):\n",
    "        batch_x, batch_y = next(batch_generator)\n",
    "        sess.run(train_step, feed_dict={x: batch_x, y: batch_y})\n",
    "        \n",
    "    train_accuracy = accuracy.eval(feed_dict={x: x_test, y: y_test})\n",
    "    print(\"step %d, training accuracy %g\"%(i, train_accuracy))"
   ]
  },
  {
   "cell_type": "markdown",
   "metadata": {},
   "source": [
    "## Info\n",
    "You'll notice that using the low-level APIs allows us to peak into the weights matrices:"
   ]
  },
  {
   "cell_type": "code",
   "execution_count": 10,
   "metadata": {},
   "outputs": [
    {
     "name": "stdout",
     "output_type": "stream",
     "text": [
      "<tf.Variable 'dense2/W_dense2:0' shape=(128, 10) dtype=float32_ref>\n",
      "[[-0.0048102  -0.06678391 -0.15051834 ...  0.11293034  0.12195925\n",
      "   0.03477891]\n",
      " [-0.09328046  0.03687395 -0.07295442 ...  0.1477557   0.10135518\n",
      "  -0.06747966]\n",
      " [ 0.01071291  0.154963   -0.18757385 ...  0.08024196  0.15282069\n",
      "   0.17554466]\n",
      " ...\n",
      " [ 0.02673787 -0.12205153  0.12581103 ...  0.14929445  0.04802634\n",
      "   0.1382155 ]\n",
      " [ 0.07793574 -0.06643188  0.13112439 ...  0.12457545 -0.07694344\n",
      "  -0.1506127 ]\n",
      " [-0.06204127 -0.15288     0.1785077  ... -0.1529056   0.13262792\n",
      "  -0.10990766]]\n"
     ]
    }
   ],
   "source": [
    "with tf.Session() as sess:\n",
    "    sess.run(tf.global_variables_initializer())\n",
    "    print(W_dense2)\n",
    "    print(sess.run(W_dense2))"
   ]
  },
  {
   "cell_type": "code",
   "execution_count": null,
   "metadata": {
    "collapsed": true
   },
   "outputs": [],
   "source": []
  }
 ],
 "metadata": {
  "kernelspec": {
   "display_name": "Python 3",
   "language": "python",
   "name": "python3"
  },
  "language_info": {
   "codemirror_mode": {
    "name": "ipython",
    "version": 3
   },
   "file_extension": ".py",
   "mimetype": "text/x-python",
   "name": "python",
   "nbconvert_exporter": "python",
   "pygments_lexer": "ipython3",
   "version": "3.6.1"
  }
 },
 "nbformat": 4,
 "nbformat_minor": 2
}
