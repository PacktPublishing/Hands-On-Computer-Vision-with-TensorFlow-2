{
 "cells": [
  {
   "cell_type": "code",
   "execution_count": 2,
   "metadata": {
    "ExecuteTime": {
     "end_time": "2019-01-02T03:24:15.791286Z",
     "start_time": "2019-01-02T03:24:15.787008Z"
    },
    "collapsed": true
   },
   "outputs": [],
   "source": [
    "import tensorflow as tf\n",
    "import numpy as np"
   ]
  },
  {
   "cell_type": "code",
   "execution_count": 3,
   "metadata": {
    "ExecuteTime": {
     "end_time": "2019-01-02T03:24:16.181261Z",
     "start_time": "2019-01-02T03:24:15.820039Z"
    },
    "collapsed": true
   },
   "outputs": [],
   "source": [
    "num_classes = 10\n",
    "img_rows, img_cols = 28, 28\n",
    "input_shape = (img_rows, img_cols, 1)\n",
    "\n",
    "\n",
    "(x_train, y_train),(x_test, y_test) = tf.keras.datasets.mnist.load_data()\n",
    "x_train, x_test = x_train / 255.0, x_test / 255.0\n",
    "\n",
    "x_train = x_train.reshape(x_train.shape[0], img_rows, img_cols, 1)\n",
    "x_test = x_test.reshape(x_test.shape[0], img_rows, img_cols, 1)\n",
    "y_test = tf.keras.utils.to_categorical(y_test)\n",
    "y_train = tf.keras.utils.to_categorical(y_train)"
   ]
  },
  {
   "cell_type": "code",
   "execution_count": 4,
   "metadata": {
    "ExecuteTime": {
     "end_time": "2019-01-02T03:24:17.885481Z",
     "start_time": "2019-01-02T03:24:17.832644Z"
    },
    "collapsed": true
   },
   "outputs": [],
   "source": [
    "x = tf.placeholder(tf.float32, shape = (None, img_rows, img_cols, 1))\n",
    "y = tf.placeholder(tf.float32, shape = (None, num_classes))\n",
    "\n",
    "conv1 = tf.layers.conv2d(inputs=x, filters=32, kernel_size=[3, 3], padding=\"valid\", activation=tf.nn.relu)\n",
    "pool2d = tf.layers.max_pooling2d(inputs=conv1, pool_size=[2, 2], strides=2)\n",
    "conv1_flat = tf.layers.flatten(pool2d)\n",
    "dense1 = tf.layers.dense(inputs=conv1_flat, units=128, activation=tf.nn.relu)\n",
    "output = tf.layers.dense(inputs=dense1, units=10, activation=tf.nn.softmax)"
   ]
  },
  {
   "cell_type": "code",
   "execution_count": 5,
   "metadata": {
    "ExecuteTime": {
     "end_time": "2019-01-02T03:24:21.642467Z",
     "start_time": "2019-01-02T03:24:21.528554Z"
    },
    "collapsed": true
   },
   "outputs": [],
   "source": [
    "cross_entropy = tf.reduce_mean(tf.nn.softmax_cross_entropy_with_logits_v2(labels=output, logits=y))\n",
    "# Same values as Keras defaults\n",
    "train_step = tf.train.AdamOptimizer(1e-3).minimize(cross_entropy)\n",
    "correct_prediction = tf.equal(tf.argmax(output, 1), tf.argmax(y,1))\n",
    "accuracy = tf.reduce_mean(tf.cast(correct_prediction, tf.float32))\n"
   ]
  },
  {
   "cell_type": "code",
   "execution_count": 6,
   "metadata": {
    "ExecuteTime": {
     "end_time": "2019-01-02T03:24:33.861796Z",
     "start_time": "2019-01-02T03:24:33.854793Z"
    },
    "collapsed": true
   },
   "outputs": [],
   "source": [
    "def batch_data(source, target, batch_size):\n",
    "   # Shuffle data\n",
    "    shuffle_indices = np.random.permutation(np.arange(len(target)))\n",
    "    source = source[shuffle_indices]\n",
    "    target = target[shuffle_indices]\n",
    "    while True:\n",
    "        for batch_i in range(0, len(source)//batch_size):\n",
    "            start_i = batch_i * batch_size\n",
    "            source_batch = source[start_i:start_i + batch_size]\n",
    "            target_batch = target[start_i:start_i + batch_size]\n",
    "\n",
    "            yield np.array(source_batch), np.array(target_batch)"
   ]
  },
  {
   "cell_type": "code",
   "execution_count": 7,
   "metadata": {
    "ExecuteTime": {
     "end_time": "2019-01-02T03:24:48.884240Z",
     "start_time": "2019-01-02T03:24:33.862694Z"
    }
   },
   "outputs": [
    {
     "name": "stdout",
     "output_type": "stream",
     "text": [
      "step 9999, training accuracy 0.9805\n"
     ]
    }
   ],
   "source": [
    "batch_size = 20\n",
    "num_steps = 10**4\n",
    "batch_generator = batch_data(x_train, y_train, batch_size)\n",
    "\n",
    "with tf.Session() as sess:\n",
    "    sess.run(tf.global_variables_initializer())\n",
    "\n",
    "    for i in range(num_steps):\n",
    "        batch_x, batch_y = next(batch_generator)\n",
    "        sess.run(train_step, feed_dict={x: batch_x, y: batch_y})\n",
    "        \n",
    "    train_accuracy = accuracy.eval(feed_dict={x: x_test, y: y_test})\n",
    "    print(\"step %d, training accuracy %g\"%(i, train_accuracy))"
   ]
  },
  {
   "cell_type": "markdown",
   "metadata": {},
   "source": [
    "## Same code with TensorBoard summaries:\n",
    "\n",
    "While this code is running, you can monitor training using:\n",
    "\n",
    "    tensorboard --logdir=eval/"
   ]
  },
  {
   "cell_type": "code",
   "execution_count": 8,
   "metadata": {
    "ExecuteTime": {
     "end_time": "2019-01-02T03:40:28.753842Z",
     "start_time": "2019-01-02T03:40:14.012875Z"
    }
   },
   "outputs": [
    {
     "name": "stdout",
     "output_type": "stream",
     "text": [
      "step 9999, training accuracy 0.9824\n"
     ]
    }
   ],
   "source": [
    "tf.summary.scalar('cross_entropy', cross_entropy)\n",
    "tf.summary.scalar('accuracy', accuracy)\n",
    "\n",
    "merged_summary = tf.summary.merge_all()\n",
    "\n",
    "with tf.Session() as sess:\n",
    "    writer = tf.summary.FileWriter(\"output\", sess.graph)\n",
    "    sess.run(tf.global_variables_initializer())\n",
    "\n",
    "    for i in range(num_steps):\n",
    "        batch_x, batch_y = next(batch_generator)\n",
    "        summary, _ = sess.run([merged_summary, train_step], feed_dict={x: batch_x, y: batch_y})\n",
    "        writer.add_summary(summary, i)\n",
    "        \n",
    "    train_accuracy = accuracy.eval(feed_dict={x: x_test, y: y_test})\n",
    "    print(\"step %d, training accuracy %g\"%(i, train_accuracy))"
   ]
  },
  {
   "cell_type": "code",
   "execution_count": null,
   "metadata": {
    "collapsed": true
   },
   "outputs": [],
   "source": []
  }
 ],
 "metadata": {
  "kernelspec": {
   "display_name": "Python 3",
   "language": "python",
   "name": "python3"
  },
  "language_info": {
   "codemirror_mode": {
    "name": "ipython",
    "version": 3
   },
   "file_extension": ".py",
   "mimetype": "text/x-python",
   "name": "python",
   "nbconvert_exporter": "python",
   "pygments_lexer": "ipython3",
   "version": "3.6.1"
  }
 },
 "nbformat": 4,
 "nbformat_minor": 2
}
