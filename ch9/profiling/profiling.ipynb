{
 "cells": [
  {
   "cell_type": "markdown",
   "metadata": {},
   "source": [
    "# Profiling a model\n",
    "In this notebook, we'll analyze the performance of a LSTM layer. LSTM cells in TensorFlow can have varying performance depending on the implementation.\n",
    "\n",
    "For a comprehensive benchmark, see https://returnn.readthedocs.io/en/latest/tf_lstm_benchmark.html"
   ]
  },
  {
   "cell_type": "code",
   "execution_count": 1,
   "metadata": {},
   "outputs": [],
   "source": [
    "import tensorflow as tf\n",
    "from tensorflow.contrib import rnn\n",
    "from tensorflow.python.client import timeline\n",
    "\n",
    "import numpy as np\n"
   ]
  },
  {
   "cell_type": "code",
   "execution_count": 2,
   "metadata": {},
   "outputs": [],
   "source": [
    "def run_and_trace(tensor, trace_path):\n",
    "    with tf.Session() as sess:\n",
    "        sess.run(tf.global_variables_initializer())\n",
    "        options = tf.RunOptions(trace_level=tf.RunOptions.FULL_TRACE)\n",
    "        run_metadata = tf.RunMetadata()\n",
    "        result = sess.run(tensor, options=options,\n",
    "                          run_metadata=run_metadata)\n",
    "\n",
    "        generated_timeline = timeline.Timeline(run_metadata.step_stats)\n",
    "        trace_content = generated_timeline.generate_chrome_trace_format()\n",
    "        with open(trace_path, 'w') as f:\n",
    "            f.write(trace_content)\n",
    "        return result"
   ]
  },
  {
   "cell_type": "code",
   "execution_count": 4,
   "metadata": {},
   "outputs": [],
   "source": [
    "num_units = 1280\n",
    "\n",
    "X = tf.constant(np.random.normal(size=([1, 1024, 128])).astype(np.float32))\n",
    "lstm = tf.contrib.rnn.LSTMBlockCell(num_units, forget_bias=1.0)\n",
    "outputs, _ = tf.nn.dynamic_rnn(lstm, X, dtype=tf.float32)\n",
    "\n",
    "result1 = run_and_trace(outputs, 'lstm_trace.json')"
   ]
  },
  {
   "cell_type": "code",
   "execution_count": 5,
   "metadata": {},
   "outputs": [],
   "source": [
    "lstm_fused = tf.contrib.rnn.LSTMBlockFusedCell(num_units, forget_bias=1.0)\n",
    "outputs_fused, _ = lstm_fused(X, dtype=tf.float32)\n",
    "result2 = run_and_trace(outputs_fused, 'lstm_fused_trace.json')"
   ]
  }
 ],
 "metadata": {
  "kernelspec": {
   "display_name": "Python 3",
   "language": "python",
   "name": "python3"
  }
 },
 "nbformat": 4,
 "nbformat_minor": 2
}
