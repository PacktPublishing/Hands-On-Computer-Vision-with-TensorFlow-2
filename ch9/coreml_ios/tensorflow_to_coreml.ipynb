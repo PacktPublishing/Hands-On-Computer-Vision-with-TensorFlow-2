{
 "cells": [
  {
   "cell_type": "code",
   "execution_count": 6,
   "metadata": {
    "ExecuteTime": {
     "end_time": "2018-12-31T19:08:15.397633Z",
     "start_time": "2018-12-31T19:08:15.375601Z"
    }
   },
   "outputs": [],
   "source": [
    "import coremltools #coremltools==2.0\n",
    "import numpy as np\n",
    "from keras.preprocessing import image\n",
    "from keras.applications.mobilenet import preprocess_input, decode_predictions\n",
    "import numpy as np\n",
    "\n",
    "def get_labels():\n",
    "    labels = []\n",
    "    for i in range(1000):\n",
    "        fake_preds = np.zeros((1, 1000))\n",
    "        fake_preds[0, i] = 1\n",
    "        label = decode_predictions(fake_preds, top=1)[0][0][1]\n",
    "        labels.append(label)\n",
    "    return labels\n",
    "\n",
    "labels = get_labels()"
   ]
  },
  {
   "cell_type": "code",
   "execution_count": 7,
   "metadata": {
    "ExecuteTime": {
     "end_time": "2018-12-31T19:08:16.335224Z",
     "start_time": "2018-12-31T19:08:16.331138Z"
    }
   },
   "outputs": [],
   "source": [
    "#coremltools.__version__\n",
    "#Keras==2.1.0\n"
   ]
  },
  {
   "cell_type": "code",
   "execution_count": 8,
   "metadata": {
    "ExecuteTime": {
     "end_time": "2018-12-31T19:08:18.067108Z",
     "start_time": "2018-12-31T19:08:16.695753Z"
    }
   },
   "outputs": [],
   "source": []
  },
  {
   "cell_type": "code",
   "execution_count": 9,
   "metadata": {
    "ExecuteTime": {
     "end_time": "2018-12-31T19:08:19.830137Z",
     "start_time": "2018-12-31T19:08:18.068091Z"
    }
   },
   "outputs": [
    {
     "name": "stdout",
     "output_type": "stream",
     "text": [
      "0 : input_2, <keras.engine.topology.InputLayer object at 0x7f34a804c748>\n",
      "1 : conv1, <keras.layers.convolutional.Conv2D object at 0x7f34a804c978>\n",
      "2 : conv1_bn, <keras.layers.normalization.BatchNormalization object at 0x7f34a8036ba8>\n",
      "3 : conv1_relu, <keras.layers.core.Activation object at 0x7f34a8036ac8>\n",
      "4 : conv_dw_1, <keras.applications.mobilenet.DepthwiseConv2D object at 0x7f34a804c908>\n",
      "5 : conv_dw_1_bn, <keras.layers.normalization.BatchNormalization object at 0x7f34a80ee3c8>\n",
      "6 : conv_dw_1_relu, <keras.layers.core.Activation object at 0x7f34a80a0ba8>\n",
      "7 : conv_pw_1, <keras.layers.convolutional.Conv2D object at 0x7f34a80a9588>\n",
      "8 : conv_pw_1_bn, <keras.layers.normalization.BatchNormalization object at 0x7f34a80b7f28>\n",
      "9 : conv_pw_1_relu, <keras.layers.core.Activation object at 0x7f34a8071588>\n",
      "10 : conv_dw_2, <keras.applications.mobilenet.DepthwiseConv2D object at 0x7f34a8086eb8>\n",
      "11 : conv_dw_2_bn, <keras.layers.normalization.BatchNormalization object at 0x7f34a807d240>\n",
      "12 : conv_dw_2_relu, <keras.layers.core.Activation object at 0x7f34a8139fd0>\n",
      "13 : conv_pw_2, <keras.layers.convolutional.Conv2D object at 0x7f34a812dc50>\n",
      "14 : conv_pw_2_bn, <keras.layers.normalization.BatchNormalization object at 0x7f34a8147518>\n",
      "15 : conv_pw_2_relu, <keras.layers.core.Activation object at 0x7f34a817aa58>\n",
      "16 : conv_dw_3, <keras.applications.mobilenet.DepthwiseConv2D object at 0x7f34a815e208>\n",
      "17 : conv_dw_3_bn, <keras.layers.normalization.BatchNormalization object at 0x7f34a8170a58>\n",
      "18 : conv_dw_3_relu, <keras.layers.core.Activation object at 0x7f34a819d208>\n",
      "19 : conv_pw_3, <keras.layers.convolutional.Conv2D object at 0x7f34a8192828>\n",
      "20 : conv_pw_3_bn, <keras.layers.normalization.BatchNormalization object at 0x7f34a81a8198>\n",
      "21 : conv_pw_3_relu, <keras.layers.core.Activation object at 0x7f34a81df0b8>\n",
      "22 : conv_dw_4, <keras.applications.mobilenet.DepthwiseConv2D object at 0x7f34a8240f28>\n",
      "23 : conv_dw_4_bn, <keras.layers.normalization.BatchNormalization object at 0x7f34a81d6588>\n",
      "24 : conv_dw_4_relu, <keras.layers.core.Activation object at 0x7f34a828fcf8>\n",
      "25 : conv_pw_4, <keras.layers.convolutional.Conv2D object at 0x7f34a826ee80>\n",
      "26 : conv_pw_4_bn, <keras.layers.normalization.BatchNormalization object at 0x7f34a8283dd8>\n",
      "27 : conv_pw_4_relu, <keras.layers.core.Activation object at 0x7f34a82bcb70>\n",
      "28 : conv_dw_5, <keras.applications.mobilenet.DepthwiseConv2D object at 0x7f34a82a4ac8>\n",
      "29 : conv_dw_5_bn, <keras.layers.normalization.BatchNormalization object at 0x7f34a82bc160>\n",
      "30 : conv_dw_5_relu, <keras.layers.core.Activation object at 0x7f34a82f3518>\n",
      "31 : conv_pw_5, <keras.layers.convolutional.Conv2D object at 0x7f34a82dd860>\n",
      "32 : conv_pw_5_bn, <keras.layers.normalization.BatchNormalization object at 0x7f34a82e9710>\n",
      "33 : conv_pw_5_relu, <keras.layers.core.Activation object at 0x7f34a831f6d8>\n",
      "34 : conv_dw_6, <keras.applications.mobilenet.DepthwiseConv2D object at 0x7f34a8381f28>\n",
      "35 : conv_dw_6_bn, <keras.layers.normalization.BatchNormalization object at 0x7f34a8315e80>\n",
      "36 : conv_dw_6_relu, <keras.layers.core.Activation object at 0x7f34a83c1f28>\n",
      "37 : conv_pw_6, <keras.layers.convolutional.Conv2D object at 0x7f34a83b7b00>\n",
      "38 : conv_pw_6_bn, <keras.layers.normalization.BatchNormalization object at 0x7f34a83cf2e8>\n",
      "39 : conv_pw_6_relu, <keras.layers.core.Activation object at 0x7f34a8407940>\n",
      "40 : conv_dw_7, <keras.applications.mobilenet.DepthwiseConv2D object at 0x7f34a83e8e10>\n",
      "41 : conv_dw_7_bn, <keras.layers.normalization.BatchNormalization object at 0x7f34a83fc8d0>\n",
      "42 : conv_dw_7_relu, <keras.layers.core.Activation object at 0x7f34a8433b70>\n",
      "43 : conv_pw_7, <keras.layers.convolutional.Conv2D object at 0x7f34a841f278>\n",
      "44 : conv_pw_7_bn, <keras.layers.normalization.BatchNormalization object at 0x7f34a8455240>\n",
      "45 : conv_pw_7_relu, <keras.layers.core.Activation object at 0x7f34a846d9b0>\n",
      "46 : conv_dw_8, <keras.applications.mobilenet.DepthwiseConv2D object at 0x7f34aacbba90>\n",
      "47 : conv_dw_8_bn, <keras.layers.normalization.BatchNormalization object at 0x7f34a846d240>\n",
      "48 : conv_dw_8_relu, <keras.layers.core.Activation object at 0x7f34aa81ffd0>\n",
      "49 : conv_pw_8, <keras.layers.convolutional.Conv2D object at 0x7f34aa7cc828>\n",
      "50 : conv_pw_8_bn, <keras.layers.normalization.BatchNormalization object at 0x7f34aa8389b0>\n",
      "51 : conv_pw_8_relu, <keras.layers.core.Activation object at 0x7f34aa7662e8>\n",
      "52 : conv_dw_9, <keras.applications.mobilenet.DepthwiseConv2D object at 0x7f34aa70d198>\n",
      "53 : conv_dw_9_bn, <keras.layers.normalization.BatchNormalization object at 0x7f34aa6faef0>\n",
      "54 : conv_dw_9_relu, <keras.layers.core.Activation object at 0x7f34aa766a90>\n",
      "55 : conv_pw_9, <keras.layers.convolutional.Conv2D object at 0x7f34aa6a7748>\n",
      "56 : conv_pw_9_bn, <keras.layers.normalization.BatchNormalization object at 0x7f34aa6938d0>\n",
      "57 : conv_pw_9_relu, <keras.layers.core.Activation object at 0x7f34aa626f98>\n",
      "58 : conv_dw_10, <keras.applications.mobilenet.DepthwiseConv2D object at 0x7f34aa5e8550>\n",
      "59 : conv_dw_10_bn, <keras.layers.normalization.BatchNormalization object at 0x7f34aa54fda0>\n",
      "60 : conv_dw_10_relu, <keras.layers.core.Activation object at 0x7f34aa54feb8>\n",
      "61 : conv_pw_10, <keras.layers.convolutional.Conv2D object at 0x7f34aa500668>\n",
      "62 : conv_pw_10_bn, <keras.layers.normalization.BatchNormalization object at 0x7f34aa56a8d0>\n",
      "63 : conv_pw_10_relu, <keras.layers.core.Activation object at 0x7f34aa4fbeb8>\n",
      "64 : conv_dw_11, <keras.applications.mobilenet.DepthwiseConv2D object at 0x7f34a077d198>\n",
      "65 : conv_dw_11_bn, <keras.layers.normalization.BatchNormalization object at 0x7f34a07d08d0>\n",
      "66 : conv_dw_11_relu, <keras.layers.core.Activation object at 0x7f34a07b0a58>\n",
      "67 : conv_pw_11, <keras.layers.convolutional.Conv2D object at 0x7f34a0715438>\n",
      "68 : conv_pw_11_bn, <keras.layers.normalization.BatchNormalization object at 0x7f34a06fe828>\n",
      "69 : conv_pw_11_relu, <keras.layers.core.Activation object at 0x7f34a0691dd8>\n",
      "70 : conv_dw_12, <keras.applications.mobilenet.DepthwiseConv2D object at 0x7f34a06550b8>\n",
      "71 : conv_dw_12_bn, <keras.layers.normalization.BatchNormalization object at 0x7f34a06abe10>\n",
      "72 : conv_dw_12_relu, <keras.layers.core.Activation object at 0x7f347c781eb8>\n",
      "73 : conv_pw_12, <keras.layers.convolutional.Conv2D object at 0x7f347c7af4a8>\n",
      "74 : conv_pw_12_bn, <keras.layers.normalization.BatchNormalization object at 0x7f347c798710>\n",
      "75 : conv_pw_12_relu, <keras.layers.core.Activation object at 0x7f347c72fd30>\n",
      "76 : conv_dw_13, <keras.applications.mobilenet.DepthwiseConv2D object at 0x7f347c6f3080>\n",
      "77 : conv_dw_13_bn, <keras.layers.normalization.BatchNormalization object at 0x7f347c6c65f8>\n",
      "78 : conv_dw_13_relu, <keras.layers.core.Activation object at 0x7f347c65ac18>\n",
      "79 : conv_pw_13, <keras.layers.convolutional.Conv2D object at 0x7f34747c63c8>\n",
      "80 : conv_pw_13_bn, <keras.layers.normalization.BatchNormalization object at 0x7f347c672630>\n",
      "81 : conv_pw_13_relu, <keras.layers.core.Activation object at 0x7f3474747be0>\n",
      "82 : global_average_pooling2d_2, <keras.layers.pooling.GlobalAveragePooling2D object at 0x7f3474777ac8>\n",
      "83 : reshape_1, <keras.layers.core.Reshape object at 0x7f347475feb8>\n",
      "84 : conv_preds, <keras.layers.convolutional.Conv2D object at 0x7f34746f2fd0>\n",
      "85 : act_softmax, <keras.layers.core.Activation object at 0x7f347468dd30>\n",
      "86 : reshape_2, <keras.layers.core.Reshape object at 0x7f3474642cc0>\n"
     ]
    }
   ],
   "source": [
    "from coremltools.converters.keras import convert\n",
    "from keras.applications import MobileNet\n",
    "\n",
    "model = MobileNet((224, 224, 3), alpha=1.0,\n",
    "                  include_top=True, weights='imagenet')\n",
    "\n",
    "# labels = ['tench', 'goldfish', 'great_white_shark', ...\n",
    "coreml_model = convert(model,\n",
    "                       class_labels=labels,\n",
    "                       image_input_names='input_1',\n",
    "                       input_names='input_1',\n",
    "                       red_bias=-1,\n",
    "                       green_bias=-1,\n",
    "                       blue_bias=-1,\n",
    "                       image_scale=1/127.5,\n",
    "                       is_bgr=False)\n",
    "coreml_model.save(\"mobilenet.mlmodel\")"
   ]
  },
  {
   "cell_type": "code",
   "execution_count": 4,
   "metadata": {
    "ExecuteTime": {
     "end_time": "2018-12-31T18:57:27.642905Z",
     "start_time": "2018-12-31T18:57:27.637484Z"
    }
   },
   "outputs": [],
   "source": [
    "# from keras.preprocessing import image\n",
    "# from keras.applications.mobilenet import preprocess_input, decode_predictions\n",
    "# import numpy as np\n",
    "\n",
    "# img_path = '../../arrow/3108.jpg'\n",
    "# img = image.load_img(img_path, target_size=(224, 224))\n",
    "# x = image.img_to_array(img)\n",
    "# x = np.expand_dims(x, axis=0)\n",
    "# x = preprocess_input(x)\n",
    "# x"
   ]
  },
  {
   "cell_type": "code",
   "execution_count": null,
   "metadata": {
    "collapsed": true
   },
   "outputs": [],
   "source": []
  }
 ],
 "metadata": {
  "kernelspec": {
   "display_name": "Python 3",
   "language": "python",
   "name": "python3"
  },
  "language_info": {
   "codemirror_mode": {
    "name": "ipython",
    "version": 3
   },
   "file_extension": ".py",
   "mimetype": "text/x-python",
   "name": "python",
   "nbconvert_exporter": "python",
   "pygments_lexer": "ipython3",
   "version": "3.6.1"
  }
 },
 "nbformat": 4,
 "nbformat_minor": 2
}
