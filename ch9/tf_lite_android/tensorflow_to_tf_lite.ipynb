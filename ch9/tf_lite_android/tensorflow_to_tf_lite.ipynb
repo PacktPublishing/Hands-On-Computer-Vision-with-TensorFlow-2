{
 "cells": [
  {
   "cell_type": "code",
   "execution_count": 2,
   "metadata": {},
   "outputs": [
    {
     "name": "stdout",
     "output_type": "stream",
     "text": [
      "  % Total    % Received % Xferd  Average Speed   Time    Time     Time  Current\n",
      "                                 Dload  Upload   Total   Spent    Left  Speed\n",
      "100 18.2M  100 18.2M    0     0   127k      0  0:02:27  0:02:27 --:--:--  221k0   111k      0  0:02:48  0:00:39  0:02:09  113k   112k      0  0:02:46  0:01:15  0:01:31  114k\n",
      "curl: (6) Could not resolve host: mobilenet_v1_1.0_224_frozen.tgz\n"
     ]
    }
   ],
   "source": [
    "# Download and extract model\n",
    "!mkdir models/\n",
    "!curl https://storage.googleapis.com/download.tensorflow.org/models/mobilenet_v1_1.0_224_frozen.tgz -O mobilenet_v1_1.0_224_frozen.tgz\n",
    "!tar -xzvf mobilenet_v1_1.0_224_frozen.tgz\n",
    "!rm mobilenet_v1_1.0_224_frozen.tgz\n"
   ]
  },
  {
   "cell_type": "code",
   "execution_count": 7,
   "metadata": {},
   "outputs": [
    {
     "data": {
      "text/plain": [
       "16901196"
      ]
     },
     "execution_count": 7,
     "metadata": {},
     "output_type": "execute_result"
    }
   ],
   "source": [
    "import tensorflow as tf\n",
    "\n",
    "graph_def_file = \"mobilenet_v1_1.0_224/frozen_graph.pb\"\n",
    "input_arrays = [\"input\"]\n",
    "output_arrays = [\"MobilenetV1/Predictions/Softmax\"]\n",
    "\n",
    "converter = tf.contrib.lite.TFLiteConverter.from_frozen_graph(\n",
    "  graph_def_file, input_arrays, output_arrays)\n",
    "tflite_model = converter.convert()\n",
    "open(\"converted_model.tflite\", \"wb\").write(tflite_model)\n"
   ]
  },
  {
   "cell_type": "code",
   "execution_count": null,
   "metadata": {},
   "outputs": [],
   "source": []
  }
 ],
 "metadata": {
  "kernelspec": {
   "display_name": "Python 3",
   "language": "python",
   "name": "python3"
  },
  "language_info": {
   "codemirror_mode": {
    "name": "ipython",
    "version": 3
   },
   "file_extension": ".py",
   "mimetype": "text/x-python",
   "name": "python",
   "nbconvert_exporter": "python",
   "pygments_lexer": "ipython3",
   "version": "3.6.4"
  }
 },
 "nbformat": 4,
 "nbformat_minor": 2
}
