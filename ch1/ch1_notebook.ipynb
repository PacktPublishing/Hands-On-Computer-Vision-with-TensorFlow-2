{
 "cells": [
  {
   "cell_type": "markdown",
   "metadata": {
    "collapsed": true
   },
   "source": [
    "# Chapter 1: Computer Vision & Deep Learning - First Steps"
   ]
  },
  {
   "cell_type": "markdown",
   "metadata": {},
   "source": [
    "In this introductory chapter, we learned more about *Computer Vision*, *Deep Learning*, and *how neural networks work*.\n",
    "\n",
    "To better grasp these concepts before switching to TensorFlow, we described how to build our own simple neural network from scratch, and apply it to a classification task. In this notebook, we quickly present an overview of the code and results explained in the book."
   ]
  },
  {
   "cell_type": "markdown",
   "metadata": {},
   "source": [
    "## At the Beginning: the Neuron"
   ]
  },
  {
   "cell_type": "markdown",
   "metadata": {},
   "source": [
    "[neuron.py](neuron.py) contains our implementation of a single *artificial neuron* able to process and forward information. Let's demonstrate how it works:"
   ]
  },
  {
   "cell_type": "code",
   "execution_count": 1,
   "metadata": {
    "collapsed": false
   },
   "outputs": [],
   "source": [
    "import numpy as np      # We use numpy to make vector and matrix computations easy.\n",
    "from neuron import Neuron\n",
    "np.random.seed(42)      # Fixing the seed for the random number generation, to get reproducable results."
   ]
  },
  {
   "cell_type": "markdown",
   "metadata": {},
   "source": [
    "First, we instantiate our neuron. Let's create a *perceptron* taking 2 input values, and using the step function for computing its *activation*. Its weights and bias values are randomly set."
   ]
  },
  {
   "cell_type": "code",
   "execution_count": 2,
   "metadata": {
    "collapsed": false
   },
   "outputs": [
    {
     "name": "stdout",
     "output_type": "stream",
     "text": [
      "Perceptron's random weights = [ 0.37454012  0.95071431  0.73199394] , and random bias = [ 0.59865848]\n"
     ]
    }
   ],
   "source": [
    "input_size = 3\n",
    "step_function = lambda y: 0 if y <= 0 else 1\n",
    "\n",
    "perceptron = Neuron(num_inputs=input_size, activation_function=step_function)\n",
    "print(\"Perceptron's random weights = {} , and random bias = {}\".format(perceptron.W, perceptron.b))"
   ]
  },
  {
   "cell_type": "markdown",
   "metadata": {},
   "source": [
    "We randomly generate a random input vector of 3 value (i.e. a column-vector of (shape = `(1, 3)`), to be fed to our neuron:"
   ]
  },
  {
   "cell_type": "code",
   "execution_count": 3,
   "metadata": {
    "collapsed": false
   },
   "outputs": [
    {
     "name": "stdout",
     "output_type": "stream",
     "text": [
      "[[ 0.15601864  0.15599452  0.05808361]]\n"
     ]
    }
   ],
   "source": [
    "x = np.random.rand(input_size).reshape(1, input_size)\n",
    "print(x)"
   ]
  },
  {
   "cell_type": "markdown",
   "metadata": {},
   "source": [
    "We can now feed our perceptron with this input and display the corresponding activation. We invite our readers to try different inputs or edit the weights."
   ]
  },
  {
   "cell_type": "code",
   "execution_count": 4,
   "metadata": {
    "collapsed": false
   },
   "outputs": [
    {
     "data": {
      "text/plain": [
       "1"
      ]
     },
     "execution_count": 4,
     "metadata": {},
     "output_type": "execute_result"
    }
   ],
   "source": [
    "perceptron.forward(x)"
   ]
  },
  {
   "cell_type": "markdown",
   "metadata": {},
   "source": [
    "## Layering Neurons Together"
   ]
  },
  {
   "cell_type": "markdown",
   "metadata": {},
   "source": [
    "In this section, we presented how neurons can be organized into layers, with the corresponding class implemented in [fully_connected_layer.py](fully_connected_layer.py). Once again, let's quickly show how this *layer* can be used to process input values, one by one or stacked together as *batches*:"
   ]
  },
  {
   "cell_type": "code",
   "execution_count": 5,
   "metadata": {
    "collapsed": true
   },
   "outputs": [],
   "source": [
    "from fully_connected_layer import FullyConnectedLayer\n",
    "np.random.seed(42)      # Fixing the seed again, to get reproducable results."
   ]
  },
  {
   "cell_type": "markdown",
   "metadata": {},
   "source": [
    "We instantiate a layer of 3 neurons (so 3 output values), taking 2 input values and applying this time the ReLU (Rectified Linear Unit) function for the activations: "
   ]
  },
  {
   "cell_type": "code",
   "execution_count": 6,
   "metadata": {
    "collapsed": false
   },
   "outputs": [],
   "source": [
    "input_size = 2\n",
    "num_neurons = 3\n",
    "relu_function = lambda y: np.maximum(y, 0)\n",
    "\n",
    "layer = FullyConnectedLayer(num_inputs=input_size, layer_size=num_neurons, activation_function=relu_function)"
   ]
  },
  {
   "cell_type": "markdown",
   "metadata": {},
   "source": [
    "We randomly generate 2 random input vectors:"
   ]
  },
  {
   "cell_type": "code",
   "execution_count": 7,
   "metadata": {
    "collapsed": false
   },
   "outputs": [
    {
     "data": {
      "text/plain": [
       "array([[-0.63635007, -0.63319098]])"
      ]
     },
     "execution_count": 7,
     "metadata": {},
     "output_type": "execute_result"
    }
   ],
   "source": [
    "x1 = np.random.uniform(-1, 1, 2).reshape(1, 2)\n",
    "x1"
   ]
  },
  {
   "cell_type": "code",
   "execution_count": 8,
   "metadata": {
    "collapsed": false
   },
   "outputs": [
    {
     "data": {
      "text/plain": [
       "array([[-0.39151551,  0.04951286]])"
      ]
     },
     "execution_count": 8,
     "metadata": {},
     "output_type": "execute_result"
    }
   ],
   "source": [
    "x2 = np.random.uniform(-1, 1, 2).reshape(1, 2)\n",
    "x2"
   ]
  },
  {
   "cell_type": "markdown",
   "metadata": {},
   "source": [
    "Our layer can either process them separetely:"
   ]
  },
  {
   "cell_type": "code",
   "execution_count": 9,
   "metadata": {
    "collapsed": false
   },
   "outputs": [
    {
     "data": {
      "text/plain": [
       "array([[ 0.29875996,  1.00368303,  0.        ]])"
      ]
     },
     "execution_count": 9,
     "metadata": {},
     "output_type": "execute_result"
    }
   ],
   "source": [
    "layer.forward(x1)"
   ]
  },
  {
   "cell_type": "code",
   "execution_count": 10,
   "metadata": {
    "collapsed": false
   },
   "outputs": [
    {
     "data": {
      "text/plain": [
       "array([[ 1.46015109,  0.80997374,  0.        ]])"
      ]
     },
     "execution_count": 10,
     "metadata": {},
     "output_type": "execute_result"
    }
   ],
   "source": [
    "layer.forward(x2)"
   ]
  },
  {
   "cell_type": "markdown",
   "metadata": {},
   "source": [
    "... or together:"
   ]
  },
  {
   "cell_type": "code",
   "execution_count": 11,
   "metadata": {
    "collapsed": false
   },
   "outputs": [
    {
     "data": {
      "text/plain": [
       "array([[ 0.29875996,  1.00368303,  0.        ],\n",
       "       [ 1.46015109,  0.80997374,  0.        ]])"
      ]
     },
     "execution_count": 11,
     "metadata": {},
     "output_type": "execute_result"
    }
   ],
   "source": [
    "x12 = np.concatenate((x1, x2))  # stack of input vectors, of shape `(2, 2)`\n",
    "layer.forward(x12)"
   ]
  },
  {
   "cell_type": "markdown",
   "metadata": {},
   "source": [
    "## Applying our Network to Classification"
   ]
  },
  {
   "cell_type": "markdown",
   "metadata": {},
   "source": [
    "Using untrained perceptrons and layers on random inputs is however a bit dull. In this final section of the notebook, we cover the application of our simple model to the hand-written digit classification task (on the [MNIST dataset](http://yann.lecun.com/exdb/mnist)) presented in the book.\n",
    "\n",
    "[simple_network.py](simple_network.py) wraps everything together into a modular *neural network* model with the optimization process described along the chapter."
   ]
  },
  {
   "cell_type": "markdown",
   "metadata": {},
   "source": [
    "### Setting Up the Task"
   ]
  },
  {
   "cell_type": "markdown",
   "metadata": {},
   "source": [
    "Before implementing a solution, let's prepare the data, loading the MNIST data for training and testing methods. For simplicity, we will use the Python module [`mnist`](https://github.com/datapythonista/mnist) developed by [Marc Garcia](https://github.com/datapythonista), and already installed in this chapter's directory (see [`./mnist/`](mnist/__init__.py))."
   ]
  },
  {
   "cell_type": "code",
   "execution_count": 33,
   "metadata": {
    "collapsed": true
   },
   "outputs": [],
   "source": [
    "%matplotlib inline\n",
    "import matplotlib    # we also import matplotlib, to visualize some data and results\n",
    "import matplotlib.pyplot as plt\n",
    "import mnist\n",
    "\n",
    "np.random.seed(42)"
   ]
  },
  {
   "cell_type": "markdown",
   "metadata": {},
   "source": [
    "The `python-mnist` module makes it simple to load the training and testing data (images and their labels):"
   ]
  },
  {
   "cell_type": "code",
   "execution_count": 34,
   "metadata": {
    "collapsed": false
   },
   "outputs": [],
   "source": [
    "X_train, y_train = mnist.train_images(), mnist.train_labels()\n",
    "X_test,  y_test  = mnist.test_images(), mnist.test_labels()\n",
    "num_classes = 10    # classes are the digits from 0 to 9"
   ]
  },
  {
   "cell_type": "markdown",
   "metadata": {},
   "source": [
    "How big are our training and testing datasets?"
   ]
  },
  {
   "cell_type": "code",
   "execution_count": 35,
   "metadata": {
    "collapsed": false
   },
   "outputs": [
    {
     "data": {
      "text/plain": [
       "(60000, 28, 28)"
      ]
     },
     "execution_count": 35,
     "metadata": {},
     "output_type": "execute_result"
    }
   ],
   "source": [
    "X_train.shape"
   ]
  },
  {
   "cell_type": "code",
   "execution_count": 36,
   "metadata": {
    "collapsed": false
   },
   "outputs": [
    {
     "data": {
      "text/plain": [
       "(10000, 28, 28)"
      ]
     },
     "execution_count": 36,
     "metadata": {},
     "output_type": "execute_result"
    }
   ],
   "source": [
    "X_test.shape"
   ]
  },
  {
   "cell_type": "markdown",
   "metadata": {},
   "source": [
    "i.e. we have 60,000 training samples and 10,000 testing one, with each sample an image of 28 by 28 pixels."
   ]
  },
  {
   "cell_type": "markdown",
   "metadata": {},
   "source": [
    "We can have a look at the data, for instance using `matplotlib`:"
   ]
  },
  {
   "cell_type": "code",
   "execution_count": 37,
   "metadata": {
    "collapsed": false
   },
   "outputs": [
    {
     "data": {
      "image/png": "[encoded data removed]",
      "text/plain": [
       "<matplotlib.figure.Figure at 0xef56ef0>"
      ]
     },
     "metadata": {},
     "output_type": "display_data"
    }
   ],
   "source": [
    "img_idx = np.random.randint(0, X_train.shape[0])\n",
    "plt.imshow(X_train[img_idx], cmap=matplotlib.cm.binary)\n",
    "plt.axis(\"off\")\n",
    "plt.show()"
   ]
  },
  {
   "cell_type": "code",
   "execution_count": 38,
   "metadata": {
    "collapsed": false
   },
   "outputs": [
    {
     "data": {
      "text/plain": [
       "4"
      ]
     },
     "execution_count": 38,
     "metadata": {},
     "output_type": "execute_result"
    }
   ],
   "source": [
    "y_train[img_idx]"
   ]
  },
  {
   "cell_type": "markdown",
   "metadata": {},
   "source": [
    "... Our images match their label, which is good news!"
   ]
  },
  {
   "cell_type": "markdown",
   "metadata": {},
   "source": [
    "However, as our network only accepts column vectors, we need to \"flatten\" the images into 1D vector, i.e. vectors of shape `(1, 784)` (since 28 * 28 = 784):"
   ]
  },
  {
   "cell_type": "code",
   "execution_count": 39,
   "metadata": {
    "collapsed": false
   },
   "outputs": [],
   "source": [
    "X_train, X_test = X_train.reshape(-1, 28 * 28), X_test.reshape(-1, 28 * 28)"
   ]
  },
  {
   "cell_type": "markdown",
   "metadata": {},
   "source": [
    "Also, let's have a look at our pixel values:"
   ]
  },
  {
   "cell_type": "code",
   "execution_count": 40,
   "metadata": {
    "collapsed": false
   },
   "outputs": [
    {
     "name": "stdout",
     "output_type": "stream",
     "text": [
      "Pixel values between 0 and 255\n"
     ]
    }
   ],
   "source": [
    "print(\"Pixel values between {} and {}\".format(X_train.min(), X_train.max()))"
   ]
  },
  {
   "cell_type": "markdown",
   "metadata": {},
   "source": [
    "Those are normal interger values for images with 8 bits per channel (`uint8`)... These values may be however too big for some of our operations. For instance, given a too big input value, our sigmoid may return a `nan` value (because of the exponential function it uses, which may \"overflow\" with a large input value).\n",
    "\n",
    "It is thus customary to *normalize* the input data, i.e. to scale the values between 0 and 1 (or -1 and 1):"
   ]
  },
  {
   "cell_type": "code",
   "execution_count": 41,
   "metadata": {
    "collapsed": false
   },
   "outputs": [
    {
     "name": "stdout",
     "output_type": "stream",
     "text": [
      "Normalized pixel values between 0.0 and 1.0\n"
     ]
    }
   ],
   "source": [
    "X_train, X_test = X_train / 255., X_test / 255.\n",
    "print(\"Normalized pixel values between {} and {}\".format(X_train.min(), X_train.max()))"
   ]
  },
  {
   "cell_type": "markdown",
   "metadata": {},
   "source": [
    "Finally, to compute the loss, we need to \"one-hot\" the labels, e.g. converting the label `4` into `[0, 0, 0, 0, 1, 0, 0, 0, 0, 0]`:"
   ]
  },
  {
   "cell_type": "code",
   "execution_count": 42,
   "metadata": {
    "collapsed": false
   },
   "outputs": [],
   "source": [
    "y_train = np.eye(num_classes)[y_train]"
   ]
  },
  {
   "cell_type": "markdown",
   "metadata": {},
   "source": [
    "### Implementing the Network"
   ]
  },
  {
   "cell_type": "markdown",
   "metadata": {},
   "source": [
    "As mentioned before, all the NN logic explained in the book is implemented in [simple_network.py](simple_network.py).\n",
    "Let's use it to instantiate a network with 2 hidden layers, taking a flattened image as input and returning a 10-value vector representing its belief the image belongs to each of the class (the highter the value,the stronger the belief): "
   ]
  },
  {
   "cell_type": "code",
   "execution_count": 43,
   "metadata": {
    "collapsed": true
   },
   "outputs": [],
   "source": [
    "from simple_network import SimpleNetwork"
   ]
  },
  {
   "cell_type": "code",
   "execution_count": 44,
   "metadata": {
    "collapsed": false
   },
   "outputs": [],
   "source": [
    "mnist_classifier = SimpleNetwork(num_inputs=X_train.shape[1], num_outputs=num_classes, hidden_layers_sizes=[64, 32])"
   ]
  },
  {
   "cell_type": "markdown",
   "metadata": {},
   "source": [
    "We can now check how our network performs (computing its *loss* over the training set, and its *accuracy* over the test set):"
   ]
  },
  {
   "cell_type": "code",
   "execution_count": 45,
   "metadata": {
    "collapsed": false
   },
   "outputs": [
    {
     "name": "stdout",
     "output_type": "stream",
     "text": [
      "Untrained : training loss = 4.436700 | val accuracy = 12.19%\n"
     ]
    }
   ],
   "source": [
    "predictions = mnist_classifier.forward(X_train)                         # forward pass\n",
    "loss_untrained = mnist_classifier.loss_function(predictions, y_train)   # loss computation\n",
    "\n",
    "accuracy_untrained = mnist_classifier.evaluate_accuracy(X_test, y_test)  # Accuracy\n",
    "print(\"Untrained : training loss = {:.6f} | val accuracy = {:.2f}%\".format(loss_untrained, accuracy_untrained * 100))"
   ]
  },
  {
   "cell_type": "markdown",
   "metadata": {},
   "source": [
    "... and the answer is: it performs really poorly... But as we know from the book, this is to be expected: we have yet to train our network"
   ]
  },
  {
   "cell_type": "markdown",
   "metadata": {},
   "source": [
    "### Teaching our Network to Classify"
   ]
  },
  {
   "cell_type": "markdown",
   "metadata": {},
   "source": [
    "This is where things finally get interesting. As the whole training procedure is already explained and implemented (c.f. [simple_network.py](simple_network.py)), we simply have to launch it:"
   ]
  },
  {
   "cell_type": "code",
   "execution_count": 46,
   "metadata": {
    "collapsed": false
   },
   "outputs": [
    {
     "name": "stdout",
     "output_type": "stream",
     "text": [
      "Epoch    0: training loss = 1.096978 | val accuracy = 19.10%\n",
      "Epoch    1: training loss = 0.886127 | val accuracy = 32.17%\n",
      "Epoch    2: training loss = 0.785361 | val accuracy = 44.06%\n",
      "Epoch    3: training loss = 0.695873 | val accuracy = 50.68%\n",
      "Epoch    4: training loss = 0.630815 | val accuracy = 56.25%\n",
      "Epoch    5: training loss = 0.576848 | val accuracy = 61.30%\n",
      "Epoch    6: training loss = 0.519389 | val accuracy = 67.69%\n",
      "Epoch    7: training loss = 0.465288 | val accuracy = 71.35%\n",
      "Epoch    8: training loss = 0.426172 | val accuracy = 74.30%\n",
      "Epoch    9: training loss = 0.396564 | val accuracy = 76.31%\n",
      "Epoch   10: training loss = 0.372741 | val accuracy = 77.75%\n",
      "Epoch   11: training loss = 0.352826 | val accuracy = 78.98%\n",
      "Epoch   12: training loss = 0.335768 | val accuracy = 80.12%\n",
      "Epoch   13: training loss = 0.320914 | val accuracy = 81.04%\n",
      "Epoch   14: training loss = 0.307823 | val accuracy = 81.87%\n",
      "Epoch   15: training loss = 0.296183 | val accuracy = 82.44%\n",
      "Epoch   16: training loss = 0.285757 | val accuracy = 83.13%\n",
      "Epoch   17: training loss = 0.276360 | val accuracy = 83.53%\n",
      "Epoch   18: training loss = 0.267840 | val accuracy = 84.04%\n",
      "Epoch   19: training loss = 0.260072 | val accuracy = 84.50%\n",
      "Epoch   20: training loss = 0.252953 | val accuracy = 84.89%\n",
      "Epoch   21: training loss = 0.246398 | val accuracy = 85.41%\n",
      "Epoch   22: training loss = 0.240340 | val accuracy = 85.78%\n",
      "Epoch   23: training loss = 0.234725 | val accuracy = 86.11%\n",
      "Epoch   24: training loss = 0.229506 | val accuracy = 86.29%\n",
      "Epoch   25: training loss = 0.224643 | val accuracy = 86.54%\n",
      "Epoch   26: training loss = 0.220102 | val accuracy = 86.82%\n",
      "Epoch   27: training loss = 0.215849 | val accuracy = 87.09%\n",
      "Epoch   28: training loss = 0.211858 | val accuracy = 87.29%\n",
      "Epoch   29: training loss = 0.208103 | val accuracy = 87.49%\n",
      "Epoch   30: training loss = 0.204562 | val accuracy = 87.65%\n",
      "Epoch   31: training loss = 0.201216 | val accuracy = 87.79%\n",
      "Epoch   32: training loss = 0.198046 | val accuracy = 87.91%\n",
      "Epoch   33: training loss = 0.195038 | val accuracy = 88.05%\n",
      "Epoch   34: training loss = 0.192176 | val accuracy = 88.19%\n",
      "Epoch   35: training loss = 0.189451 | val accuracy = 88.38%\n",
      "Epoch   36: training loss = 0.186851 | val accuracy = 88.47%\n",
      "Epoch   37: training loss = 0.184367 | val accuracy = 88.64%\n",
      "Epoch   38: training loss = 0.181991 | val accuracy = 88.74%\n",
      "Epoch   39: training loss = 0.179715 | val accuracy = 88.84%\n",
      "Epoch   40: training loss = 0.177532 | val accuracy = 88.92%\n",
      "Epoch   41: training loss = 0.175435 | val accuracy = 89.01%\n",
      "Epoch   42: training loss = 0.173420 | val accuracy = 89.06%\n",
      "Epoch   43: training loss = 0.171481 | val accuracy = 89.22%\n",
      "Epoch   44: training loss = 0.169612 | val accuracy = 89.27%\n",
      "Epoch   45: training loss = 0.167811 | val accuracy = 89.37%\n",
      "Epoch   46: training loss = 0.166071 | val accuracy = 89.41%\n",
      "Epoch   47: training loss = 0.164391 | val accuracy = 89.49%\n",
      "Epoch   48: training loss = 0.162767 | val accuracy = 89.58%\n",
      "Epoch   49: training loss = 0.161194 | val accuracy = 89.64%\n",
      "Epoch   50: training loss = 0.159670 | val accuracy = 89.79%\n",
      "Epoch   51: training loss = 0.158192 | val accuracy = 89.89%\n",
      "Epoch   52: training loss = 0.156757 | val accuracy = 89.97%\n",
      "Epoch   53: training loss = 0.155363 | val accuracy = 90.01%\n",
      "Epoch   54: training loss = 0.154007 | val accuracy = 90.05%\n",
      "Epoch   55: training loss = 0.152688 | val accuracy = 90.15%\n",
      "Epoch   56: training loss = 0.151404 | val accuracy = 90.19%\n",
      "Epoch   57: training loss = 0.150155 | val accuracy = 90.21%\n",
      "Epoch   58: training loss = 0.148938 | val accuracy = 90.28%\n",
      "Epoch   59: training loss = 0.147752 | val accuracy = 90.37%\n",
      "Epoch   60: training loss = 0.146596 | val accuracy = 90.50%\n",
      "Epoch   61: training loss = 0.145469 | val accuracy = 90.60%\n",
      "Epoch   62: training loss = 0.144369 | val accuracy = 90.67%\n",
      "Epoch   63: training loss = 0.143296 | val accuracy = 90.67%\n",
      "Epoch   64: training loss = 0.142247 | val accuracy = 90.74%\n",
      "Epoch   65: training loss = 0.141222 | val accuracy = 90.83%\n",
      "Epoch   66: training loss = 0.140220 | val accuracy = 90.84%\n",
      "Epoch   67: training loss = 0.139239 | val accuracy = 90.85%\n",
      "Epoch   68: training loss = 0.138279 | val accuracy = 90.93%\n",
      "Epoch   69: training loss = 0.137338 | val accuracy = 90.97%\n",
      "Epoch   70: training loss = 0.136417 | val accuracy = 90.99%\n",
      "Epoch   71: training loss = 0.135513 | val accuracy = 91.02%\n",
      "Epoch   72: training loss = 0.134627 | val accuracy = 91.05%\n",
      "Epoch   73: training loss = 0.133757 | val accuracy = 91.06%\n",
      "Epoch   74: training loss = 0.132902 | val accuracy = 91.11%\n",
      "Epoch   75: training loss = 0.132063 | val accuracy = 91.13%\n",
      "Epoch   76: training loss = 0.131239 | val accuracy = 91.15%\n",
      "Epoch   77: training loss = 0.130428 | val accuracy = 91.20%\n",
      "Epoch   78: training loss = 0.129631 | val accuracy = 91.25%\n",
      "Epoch   79: training loss = 0.128846 | val accuracy = 91.27%\n",
      "Epoch   80: training loss = 0.128075 | val accuracy = 91.29%\n",
      "Epoch   81: training loss = 0.127315 | val accuracy = 91.30%\n",
      "Epoch   82: training loss = 0.126567 | val accuracy = 91.35%\n",
      "Epoch   83: training loss = 0.125831 | val accuracy = 91.41%\n",
      "Epoch   84: training loss = 0.125106 | val accuracy = 91.46%\n",
      "Epoch   85: training loss = 0.124391 | val accuracy = 91.51%\n",
      "Epoch   86: training loss = 0.123687 | val accuracy = 91.52%\n",
      "Epoch   87: training loss = 0.122993 | val accuracy = 91.58%\n",
      "Epoch   88: training loss = 0.122309 | val accuracy = 91.63%\n",
      "Epoch   89: training loss = 0.121634 | val accuracy = 91.69%\n",
      "Epoch   90: training loss = 0.120968 | val accuracy = 91.71%\n",
      "Epoch   91: training loss = 0.120311 | val accuracy = 91.71%\n",
      "Epoch   92: training loss = 0.119663 | val accuracy = 91.73%\n",
      "Epoch   93: training loss = 0.119023 | val accuracy = 91.77%\n",
      "Epoch   94: training loss = 0.118391 | val accuracy = 91.76%\n",
      "Epoch   95: training loss = 0.117768 | val accuracy = 91.82%\n",
      "Epoch   96: training loss = 0.117153 | val accuracy = 91.87%\n",
      "Epoch   97: training loss = 0.116545 | val accuracy = 91.92%\n",
      "Epoch   98: training loss = 0.115946 | val accuracy = 91.91%\n",
      "Epoch   99: training loss = 0.115354 | val accuracy = 91.97%\n",
      "Epoch  100: training loss = 0.114770 | val accuracy = 92.01%\n",
      "Epoch  101: training loss = 0.114193 | val accuracy = 92.02%\n",
      "Epoch  102: training loss = 0.113624 | val accuracy = 92.04%\n",
      "Epoch  103: training loss = 0.113063 | val accuracy = 92.08%\n",
      "Epoch  104: training loss = 0.112509 | val accuracy = 92.12%\n",
      "Epoch  105: training loss = 0.111962 | val accuracy = 92.15%\n",
      "Epoch  106: training loss = 0.111423 | val accuracy = 92.19%\n",
      "Epoch  107: training loss = 0.110891 | val accuracy = 92.19%\n",
      "Epoch  108: training loss = 0.110366 | val accuracy = 92.20%\n",
      "Epoch  109: training loss = 0.109848 | val accuracy = 92.21%\n",
      "Epoch  110: training loss = 0.109337 | val accuracy = 92.23%\n",
      "Epoch  111: training loss = 0.108833 | val accuracy = 92.25%\n",
      "Epoch  112: training loss = 0.108335 | val accuracy = 92.25%\n",
      "Epoch  113: training loss = 0.107844 | val accuracy = 92.29%\n",
      "Epoch  114: training loss = 0.107360 | val accuracy = 92.32%\n",
      "Epoch  115: training loss = 0.106882 | val accuracy = 92.36%\n",
      "Epoch  116: training loss = 0.106411 | val accuracy = 92.39%\n",
      "Epoch  117: training loss = 0.105945 | val accuracy = 92.38%\n",
      "Epoch  118: training loss = 0.105486 | val accuracy = 92.37%\n",
      "Epoch  119: training loss = 0.105033 | val accuracy = 92.37%\n",
      "Epoch  120: training loss = 0.104585 | val accuracy = 92.39%\n",
      "Epoch  121: training loss = 0.104143 | val accuracy = 92.40%\n",
      "Epoch  122: training loss = 0.103707 | val accuracy = 92.39%\n",
      "Epoch  123: training loss = 0.103275 | val accuracy = 92.40%\n",
      "Epoch  124: training loss = 0.102850 | val accuracy = 92.42%\n",
      "Epoch  125: training loss = 0.102429 | val accuracy = 92.44%\n",
      "Epoch  126: training loss = 0.102014 | val accuracy = 92.45%\n",
      "Epoch  127: training loss = 0.101603 | val accuracy = 92.44%\n",
      "Epoch  128: training loss = 0.101197 | val accuracy = 92.45%\n",
      "Epoch  129: training loss = 0.100796 | val accuracy = 92.47%\n",
      "Epoch  130: training loss = 0.100400 | val accuracy = 92.49%\n",
      "Epoch  131: training loss = 0.100007 | val accuracy = 92.54%\n",
      "Epoch  132: training loss = 0.099620 | val accuracy = 92.56%\n",
      "Epoch  133: training loss = 0.099236 | val accuracy = 92.57%\n",
      "Epoch  134: training loss = 0.098857 | val accuracy = 92.60%\n",
      "Epoch  135: training loss = 0.098482 | val accuracy = 92.63%\n",
      "Epoch  136: training loss = 0.098111 | val accuracy = 92.64%\n",
      "Epoch  137: training loss = 0.097743 | val accuracy = 92.68%\n",
      "Epoch  138: training loss = 0.097380 | val accuracy = 92.74%\n",
      "Epoch  139: training loss = 0.097020 | val accuracy = 92.75%\n",
      "Epoch  140: training loss = 0.096663 | val accuracy = 92.74%\n",
      "Epoch  141: training loss = 0.096310 | val accuracy = 92.79%\n",
      "Epoch  142: training loss = 0.095961 | val accuracy = 92.85%\n",
      "Epoch  143: training loss = 0.095615 | val accuracy = 92.87%\n",
      "Epoch  144: training loss = 0.095272 | val accuracy = 92.91%\n",
      "Epoch  145: training loss = 0.094932 | val accuracy = 92.92%\n",
      "Epoch  146: training loss = 0.094596 | val accuracy = 92.91%\n",
      "Epoch  147: training loss = 0.094262 | val accuracy = 92.91%\n",
      "Epoch  148: training loss = 0.093932 | val accuracy = 92.95%\n",
      "Epoch  149: training loss = 0.093604 | val accuracy = 92.93%\n",
      "Epoch  150: training loss = 0.093280 | val accuracy = 92.95%\n",
      "Epoch  151: training loss = 0.092958 | val accuracy = 92.96%\n",
      "Epoch  152: training loss = 0.092638 | val accuracy = 92.98%\n",
      "Epoch  153: training loss = 0.092322 | val accuracy = 92.99%\n",
      "Epoch  154: training loss = 0.092008 | val accuracy = 93.01%\n",
      "Epoch  155: training loss = 0.091697 | val accuracy = 93.05%\n",
      "Epoch  156: training loss = 0.091388 | val accuracy = 93.06%\n",
      "Epoch  157: training loss = 0.091081 | val accuracy = 93.06%\n",
      "Epoch  158: training loss = 0.090777 | val accuracy = 93.07%\n",
      "Epoch  159: training loss = 0.090476 | val accuracy = 93.07%\n",
      "Epoch  160: training loss = 0.090176 | val accuracy = 93.06%\n",
      "Epoch  161: training loss = 0.089879 | val accuracy = 93.09%\n",
      "Epoch  162: training loss = 0.089584 | val accuracy = 93.09%\n",
      "Epoch  163: training loss = 0.089292 | val accuracy = 93.10%\n",
      "Epoch  164: training loss = 0.089001 | val accuracy = 93.11%\n",
      "Epoch  165: training loss = 0.088713 | val accuracy = 93.09%\n",
      "Epoch  166: training loss = 0.088427 | val accuracy = 93.10%\n",
      "Epoch  167: training loss = 0.088143 | val accuracy = 93.10%\n",
      "Epoch  168: training loss = 0.087861 | val accuracy = 93.12%\n",
      "Epoch  169: training loss = 0.087581 | val accuracy = 93.12%\n",
      "Epoch  170: training loss = 0.087303 | val accuracy = 93.11%\n",
      "Epoch  171: training loss = 0.087027 | val accuracy = 93.12%\n",
      "Epoch  172: training loss = 0.086753 | val accuracy = 93.13%\n",
      "Epoch  173: training loss = 0.086481 | val accuracy = 93.15%\n",
      "Epoch  174: training loss = 0.086211 | val accuracy = 93.14%\n",
      "Epoch  175: training loss = 0.085943 | val accuracy = 93.14%\n",
      "Epoch  176: training loss = 0.085677 | val accuracy = 93.17%\n",
      "Epoch  177: training loss = 0.085412 | val accuracy = 93.15%\n",
      "Epoch  178: training loss = 0.085150 | val accuracy = 93.17%\n",
      "Epoch  179: training loss = 0.084889 | val accuracy = 93.19%\n",
      "Epoch  180: training loss = 0.084631 | val accuracy = 93.22%\n",
      "Epoch  181: training loss = 0.084374 | val accuracy = 93.23%\n",
      "Epoch  182: training loss = 0.084119 | val accuracy = 93.22%\n",
      "Epoch  183: training loss = 0.083866 | val accuracy = 93.23%\n",
      "Epoch  184: training loss = 0.083614 | val accuracy = 93.24%\n",
      "Epoch  185: training loss = 0.083364 | val accuracy = 93.26%\n",
      "Epoch  186: training loss = 0.083116 | val accuracy = 93.26%\n",
      "Epoch  187: training loss = 0.082870 | val accuracy = 93.27%\n",
      "Epoch  188: training loss = 0.082626 | val accuracy = 93.28%\n",
      "Epoch  189: training loss = 0.082383 | val accuracy = 93.29%\n",
      "Epoch  190: training loss = 0.082142 | val accuracy = 93.30%\n",
      "Epoch  191: training loss = 0.081902 | val accuracy = 93.33%\n",
      "Epoch  192: training loss = 0.081664 | val accuracy = 93.36%\n",
      "Epoch  193: training loss = 0.081428 | val accuracy = 93.35%\n",
      "Epoch  194: training loss = 0.081194 | val accuracy = 93.35%\n",
      "Epoch  195: training loss = 0.080961 | val accuracy = 93.37%\n",
      "Epoch  196: training loss = 0.080729 | val accuracy = 93.38%\n",
      "Epoch  197: training loss = 0.080500 | val accuracy = 93.39%\n",
      "Epoch  198: training loss = 0.080271 | val accuracy = 93.41%\n",
      "Epoch  199: training loss = 0.080045 | val accuracy = 93.44%\n",
      "Epoch  200: training loss = 0.079820 | val accuracy = 93.46%\n",
      "Epoch  201: training loss = 0.079596 | val accuracy = 93.46%\n",
      "Epoch  202: training loss = 0.079375 | val accuracy = 93.51%\n",
      "Epoch  203: training loss = 0.079154 | val accuracy = 93.54%\n",
      "Epoch  204: training loss = 0.078935 | val accuracy = 93.55%\n",
      "Epoch  205: training loss = 0.078718 | val accuracy = 93.54%\n",
      "Epoch  206: training loss = 0.078502 | val accuracy = 93.56%\n",
      "Epoch  207: training loss = 0.078287 | val accuracy = 93.56%\n",
      "Epoch  208: training loss = 0.078074 | val accuracy = 93.57%\n",
      "Epoch  209: training loss = 0.077863 | val accuracy = 93.58%\n",
      "Epoch  210: training loss = 0.077652 | val accuracy = 93.59%\n",
      "Epoch  211: training loss = 0.077443 | val accuracy = 93.59%\n",
      "Epoch  212: training loss = 0.077236 | val accuracy = 93.59%\n",
      "Epoch  213: training loss = 0.077030 | val accuracy = 93.61%\n",
      "Epoch  214: training loss = 0.076825 | val accuracy = 93.63%\n",
      "Epoch  215: training loss = 0.076622 | val accuracy = 93.63%\n",
      "Epoch  216: training loss = 0.076420 | val accuracy = 93.64%\n",
      "Epoch  217: training loss = 0.076219 | val accuracy = 93.63%\n",
      "Epoch  218: training loss = 0.076020 | val accuracy = 93.65%\n",
      "Epoch  219: training loss = 0.075821 | val accuracy = 93.65%\n",
      "Epoch  220: training loss = 0.075625 | val accuracy = 93.66%\n",
      "Epoch  221: training loss = 0.075429 | val accuracy = 93.65%\n",
      "Epoch  222: training loss = 0.075235 | val accuracy = 93.65%\n",
      "Epoch  223: training loss = 0.075042 | val accuracy = 93.68%\n",
      "Epoch  224: training loss = 0.074850 | val accuracy = 93.70%\n",
      "Epoch  225: training loss = 0.074660 | val accuracy = 93.72%\n",
      "Epoch  226: training loss = 0.074471 | val accuracy = 93.72%\n",
      "Epoch  227: training loss = 0.074283 | val accuracy = 93.72%\n",
      "Epoch  228: training loss = 0.074096 | val accuracy = 93.73%\n",
      "Epoch  229: training loss = 0.073910 | val accuracy = 93.72%\n",
      "Epoch  230: training loss = 0.073726 | val accuracy = 93.72%\n",
      "Epoch  231: training loss = 0.073542 | val accuracy = 93.71%\n",
      "Epoch  232: training loss = 0.073360 | val accuracy = 93.71%\n",
      "Epoch  233: training loss = 0.073179 | val accuracy = 93.72%\n",
      "Epoch  234: training loss = 0.072999 | val accuracy = 93.73%\n",
      "Epoch  235: training loss = 0.072820 | val accuracy = 93.75%\n",
      "Epoch  236: training loss = 0.072642 | val accuracy = 93.75%\n",
      "Epoch  237: training loss = 0.072465 | val accuracy = 93.75%\n",
      "Epoch  238: training loss = 0.072290 | val accuracy = 93.73%\n",
      "Epoch  239: training loss = 0.072115 | val accuracy = 93.73%\n",
      "Epoch  240: training loss = 0.071941 | val accuracy = 93.72%\n",
      "Epoch  241: training loss = 0.071768 | val accuracy = 93.71%\n",
      "Epoch  242: training loss = 0.071596 | val accuracy = 93.74%\n",
      "Epoch  243: training loss = 0.071426 | val accuracy = 93.74%\n",
      "Epoch  244: training loss = 0.071256 | val accuracy = 93.75%\n",
      "Epoch  245: training loss = 0.071087 | val accuracy = 93.77%\n",
      "Epoch  246: training loss = 0.070919 | val accuracy = 93.78%\n",
      "Epoch  247: training loss = 0.070753 | val accuracy = 93.78%\n",
      "Epoch  248: training loss = 0.070587 | val accuracy = 93.79%\n",
      "Epoch  249: training loss = 0.070422 | val accuracy = 93.81%\n",
      "Epoch  250: training loss = 0.070259 | val accuracy = 93.81%\n",
      "Epoch  251: training loss = 0.070096 | val accuracy = 93.84%\n",
      "Epoch  252: training loss = 0.069935 | val accuracy = 93.85%\n",
      "Epoch  253: training loss = 0.069775 | val accuracy = 93.86%\n",
      "Epoch  254: training loss = 0.069615 | val accuracy = 93.86%\n",
      "Epoch  255: training loss = 0.069457 | val accuracy = 93.86%\n",
      "Epoch  256: training loss = 0.069300 | val accuracy = 93.86%\n",
      "Epoch  257: training loss = 0.069144 | val accuracy = 93.87%\n",
      "Epoch  258: training loss = 0.068988 | val accuracy = 93.89%\n",
      "Epoch  259: training loss = 0.068834 | val accuracy = 93.92%\n",
      "Epoch  260: training loss = 0.068681 | val accuracy = 93.93%\n",
      "Epoch  261: training loss = 0.068529 | val accuracy = 93.95%\n",
      "Epoch  262: training loss = 0.068377 | val accuracy = 93.96%\n",
      "Epoch  263: training loss = 0.068227 | val accuracy = 93.96%\n",
      "Epoch  264: training loss = 0.068077 | val accuracy = 93.98%\n",
      "Epoch  265: training loss = 0.067928 | val accuracy = 93.98%\n",
      "Epoch  266: training loss = 0.067781 | val accuracy = 93.99%\n",
      "Epoch  267: training loss = 0.067634 | val accuracy = 93.99%\n",
      "Epoch  268: training loss = 0.067488 | val accuracy = 94.02%\n",
      "Epoch  269: training loss = 0.067342 | val accuracy = 94.03%\n",
      "Epoch  270: training loss = 0.067198 | val accuracy = 94.06%\n",
      "Epoch  271: training loss = 0.067054 | val accuracy = 94.06%\n",
      "Epoch  272: training loss = 0.066911 | val accuracy = 94.07%\n",
      "Epoch  273: training loss = 0.066769 | val accuracy = 94.08%\n",
      "Epoch  274: training loss = 0.066628 | val accuracy = 94.08%\n",
      "Epoch  275: training loss = 0.066487 | val accuracy = 94.08%\n",
      "Epoch  276: training loss = 0.066347 | val accuracy = 94.09%\n",
      "Epoch  277: training loss = 0.066208 | val accuracy = 94.10%\n",
      "Epoch  278: training loss = 0.066070 | val accuracy = 94.10%\n",
      "Epoch  279: training loss = 0.065932 | val accuracy = 94.10%\n",
      "Epoch  280: training loss = 0.065795 | val accuracy = 94.12%\n",
      "Epoch  281: training loss = 0.065659 | val accuracy = 94.13%\n",
      "Epoch  282: training loss = 0.065524 | val accuracy = 94.15%\n",
      "Epoch  283: training loss = 0.065389 | val accuracy = 94.14%\n",
      "Epoch  284: training loss = 0.065255 | val accuracy = 94.14%\n",
      "Epoch  285: training loss = 0.065121 | val accuracy = 94.15%\n",
      "Epoch  286: training loss = 0.064988 | val accuracy = 94.15%\n",
      "Epoch  287: training loss = 0.064856 | val accuracy = 94.16%\n",
      "Epoch  288: training loss = 0.064724 | val accuracy = 94.16%\n",
      "Epoch  289: training loss = 0.064593 | val accuracy = 94.16%\n",
      "Epoch  290: training loss = 0.064463 | val accuracy = 94.17%\n",
      "Epoch  291: training loss = 0.064333 | val accuracy = 94.17%\n",
      "Epoch  292: training loss = 0.064204 | val accuracy = 94.17%\n",
      "Epoch  293: training loss = 0.064076 | val accuracy = 94.23%\n",
      "Epoch  294: training loss = 0.063948 | val accuracy = 94.23%\n",
      "Epoch  295: training loss = 0.063821 | val accuracy = 94.24%\n",
      "Epoch  296: training loss = 0.063694 | val accuracy = 94.25%\n",
      "Epoch  297: training loss = 0.063568 | val accuracy = 94.26%\n",
      "Epoch  298: training loss = 0.063443 | val accuracy = 94.28%\n",
      "Epoch  299: training loss = 0.063319 | val accuracy = 94.28%\n",
      "Epoch  300: training loss = 0.063194 | val accuracy = 94.28%\n",
      "Epoch  301: training loss = 0.063071 | val accuracy = 94.28%\n",
      "Epoch  302: training loss = 0.062948 | val accuracy = 94.29%\n",
      "Epoch  303: training loss = 0.062826 | val accuracy = 94.28%\n",
      "Epoch  304: training loss = 0.062704 | val accuracy = 94.28%\n",
      "Epoch  305: training loss = 0.062583 | val accuracy = 94.29%\n",
      "Epoch  306: training loss = 0.062463 | val accuracy = 94.29%\n",
      "Epoch  307: training loss = 0.062343 | val accuracy = 94.30%\n",
      "Epoch  308: training loss = 0.062224 | val accuracy = 94.31%\n",
      "Epoch  309: training loss = 0.062105 | val accuracy = 94.31%\n",
      "Epoch  310: training loss = 0.061987 | val accuracy = 94.31%\n",
      "Epoch  311: training loss = 0.061869 | val accuracy = 94.32%\n",
      "Epoch  312: training loss = 0.061752 | val accuracy = 94.32%\n",
      "Epoch  313: training loss = 0.061635 | val accuracy = 94.31%\n",
      "Epoch  314: training loss = 0.061519 | val accuracy = 94.33%\n",
      "Epoch  315: training loss = 0.061403 | val accuracy = 94.33%\n",
      "Epoch  316: training loss = 0.061288 | val accuracy = 94.33%\n",
      "Epoch  317: training loss = 0.061174 | val accuracy = 94.34%\n",
      "Epoch  318: training loss = 0.061060 | val accuracy = 94.36%\n",
      "Epoch  319: training loss = 0.060946 | val accuracy = 94.38%\n",
      "Epoch  320: training loss = 0.060833 | val accuracy = 94.38%\n",
      "Epoch  321: training loss = 0.060720 | val accuracy = 94.40%\n",
      "Epoch  322: training loss = 0.060607 | val accuracy = 94.39%\n",
      "Epoch  323: training loss = 0.060495 | val accuracy = 94.39%\n",
      "Epoch  324: training loss = 0.060384 | val accuracy = 94.40%\n",
      "Epoch  325: training loss = 0.060273 | val accuracy = 94.41%\n",
      "Epoch  326: training loss = 0.060162 | val accuracy = 94.42%\n",
      "Epoch  327: training loss = 0.060052 | val accuracy = 94.43%\n",
      "Epoch  328: training loss = 0.059942 | val accuracy = 94.43%\n",
      "Epoch  329: training loss = 0.059832 | val accuracy = 94.44%\n",
      "Epoch  330: training loss = 0.059723 | val accuracy = 94.44%\n",
      "Epoch  331: training loss = 0.059614 | val accuracy = 94.44%\n",
      "Epoch  332: training loss = 0.059506 | val accuracy = 94.44%\n",
      "Epoch  333: training loss = 0.059398 | val accuracy = 94.44%\n",
      "Epoch  334: training loss = 0.059290 | val accuracy = 94.44%\n",
      "Epoch  335: training loss = 0.059183 | val accuracy = 94.44%\n",
      "Epoch  336: training loss = 0.059076 | val accuracy = 94.43%\n",
      "Epoch  337: training loss = 0.058969 | val accuracy = 94.42%\n",
      "Epoch  338: training loss = 0.058863 | val accuracy = 94.43%\n",
      "Epoch  339: training loss = 0.058757 | val accuracy = 94.43%\n",
      "Epoch  340: training loss = 0.058652 | val accuracy = 94.44%\n",
      "Epoch  341: training loss = 0.058547 | val accuracy = 94.42%\n",
      "Epoch  342: training loss = 0.058442 | val accuracy = 94.43%\n",
      "Epoch  343: training loss = 0.058338 | val accuracy = 94.43%\n",
      "Epoch  344: training loss = 0.058234 | val accuracy = 94.45%\n",
      "Epoch  345: training loss = 0.058130 | val accuracy = 94.47%\n",
      "Epoch  346: training loss = 0.058027 | val accuracy = 94.47%\n",
      "Epoch  347: training loss = 0.057924 | val accuracy = 94.47%\n",
      "Epoch  348: training loss = 0.057822 | val accuracy = 94.48%\n",
      "Epoch  349: training loss = 0.057720 | val accuracy = 94.49%\n",
      "Epoch  350: training loss = 0.057619 | val accuracy = 94.51%\n",
      "Epoch  351: training loss = 0.057517 | val accuracy = 94.50%\n",
      "Epoch  352: training loss = 0.057417 | val accuracy = 94.50%\n",
      "Epoch  353: training loss = 0.057316 | val accuracy = 94.50%\n",
      "Epoch  354: training loss = 0.057216 | val accuracy = 94.50%\n",
      "Epoch  355: training loss = 0.057117 | val accuracy = 94.51%\n",
      "Epoch  356: training loss = 0.057018 | val accuracy = 94.49%\n",
      "Epoch  357: training loss = 0.056919 | val accuracy = 94.49%\n",
      "Epoch  358: training loss = 0.056820 | val accuracy = 94.49%\n",
      "Epoch  359: training loss = 0.056722 | val accuracy = 94.50%\n",
      "Epoch  360: training loss = 0.056625 | val accuracy = 94.50%\n",
      "Epoch  361: training loss = 0.056528 | val accuracy = 94.50%\n",
      "Epoch  362: training loss = 0.056431 | val accuracy = 94.50%\n",
      "Epoch  363: training loss = 0.056334 | val accuracy = 94.50%\n",
      "Epoch  364: training loss = 0.056238 | val accuracy = 94.50%\n",
      "Epoch  365: training loss = 0.056143 | val accuracy = 94.50%\n",
      "Epoch  366: training loss = 0.056047 | val accuracy = 94.50%\n",
      "Epoch  367: training loss = 0.055952 | val accuracy = 94.50%\n",
      "Epoch  368: training loss = 0.055858 | val accuracy = 94.50%\n",
      "Epoch  369: training loss = 0.055763 | val accuracy = 94.49%\n",
      "Epoch  370: training loss = 0.055669 | val accuracy = 94.49%\n",
      "Epoch  371: training loss = 0.055576 | val accuracy = 94.49%\n",
      "Epoch  372: training loss = 0.055483 | val accuracy = 94.49%\n",
      "Epoch  373: training loss = 0.055390 | val accuracy = 94.49%\n",
      "Epoch  374: training loss = 0.055297 | val accuracy = 94.48%\n",
      "Epoch  375: training loss = 0.055205 | val accuracy = 94.48%\n",
      "Epoch  376: training loss = 0.055113 | val accuracy = 94.49%\n",
      "Epoch  377: training loss = 0.055021 | val accuracy = 94.49%\n",
      "Epoch  378: training loss = 0.054930 | val accuracy = 94.50%\n",
      "Epoch  379: training loss = 0.054839 | val accuracy = 94.49%\n",
      "Epoch  380: training loss = 0.054748 | val accuracy = 94.48%\n",
      "Epoch  381: training loss = 0.054658 | val accuracy = 94.48%\n",
      "Epoch  382: training loss = 0.054568 | val accuracy = 94.49%\n",
      "Epoch  383: training loss = 0.054478 | val accuracy = 94.50%\n",
      "Epoch  384: training loss = 0.054388 | val accuracy = 94.49%\n",
      "Epoch  385: training loss = 0.054299 | val accuracy = 94.50%\n",
      "Epoch  386: training loss = 0.054210 | val accuracy = 94.51%\n",
      "Epoch  387: training loss = 0.054122 | val accuracy = 94.51%\n",
      "Epoch  388: training loss = 0.054034 | val accuracy = 94.52%\n",
      "Epoch  389: training loss = 0.053946 | val accuracy = 94.52%\n",
      "Epoch  390: training loss = 0.053858 | val accuracy = 94.52%\n",
      "Epoch  391: training loss = 0.053771 | val accuracy = 94.52%\n",
      "Epoch  392: training loss = 0.053684 | val accuracy = 94.52%\n",
      "Epoch  393: training loss = 0.053597 | val accuracy = 94.53%\n",
      "Epoch  394: training loss = 0.053510 | val accuracy = 94.53%\n",
      "Epoch  395: training loss = 0.053424 | val accuracy = 94.54%\n",
      "Epoch  396: training loss = 0.053338 | val accuracy = 94.54%\n",
      "Epoch  397: training loss = 0.053252 | val accuracy = 94.54%\n",
      "Epoch  398: training loss = 0.053167 | val accuracy = 94.53%\n",
      "Epoch  399: training loss = 0.053082 | val accuracy = 94.54%\n",
      "Epoch  400: training loss = 0.052997 | val accuracy = 94.54%\n",
      "Epoch  401: training loss = 0.052912 | val accuracy = 94.53%\n",
      "Epoch  402: training loss = 0.052828 | val accuracy = 94.54%\n",
      "Epoch  403: training loss = 0.052744 | val accuracy = 94.53%\n",
      "Epoch  404: training loss = 0.052660 | val accuracy = 94.53%\n",
      "Epoch  405: training loss = 0.052576 | val accuracy = 94.52%\n",
      "Epoch  406: training loss = 0.052493 | val accuracy = 94.53%\n",
      "Epoch  407: training loss = 0.052410 | val accuracy = 94.53%\n",
      "Epoch  408: training loss = 0.052327 | val accuracy = 94.55%\n",
      "Epoch  409: training loss = 0.052245 | val accuracy = 94.55%\n",
      "Epoch  410: training loss = 0.052162 | val accuracy = 94.53%\n",
      "Epoch  411: training loss = 0.052080 | val accuracy = 94.53%\n",
      "Epoch  412: training loss = 0.051998 | val accuracy = 94.53%\n",
      "Epoch  413: training loss = 0.051917 | val accuracy = 94.53%\n",
      "Epoch  414: training loss = 0.051836 | val accuracy = 94.53%\n",
      "Epoch  415: training loss = 0.051755 | val accuracy = 94.52%\n",
      "Epoch  416: training loss = 0.051674 | val accuracy = 94.51%\n",
      "Epoch  417: training loss = 0.051594 | val accuracy = 94.51%\n",
      "Epoch  418: training loss = 0.051514 | val accuracy = 94.51%\n",
      "Epoch  419: training loss = 0.051434 | val accuracy = 94.51%\n",
      "Epoch  420: training loss = 0.051355 | val accuracy = 94.51%\n",
      "Epoch  421: training loss = 0.051276 | val accuracy = 94.53%\n",
      "Epoch  422: training loss = 0.051197 | val accuracy = 94.52%\n",
      "Epoch  423: training loss = 0.051119 | val accuracy = 94.52%\n",
      "Epoch  424: training loss = 0.051041 | val accuracy = 94.53%\n",
      "Epoch  425: training loss = 0.050963 | val accuracy = 94.54%\n",
      "Epoch  426: training loss = 0.050886 | val accuracy = 94.55%\n",
      "Epoch  427: training loss = 0.050808 | val accuracy = 94.56%\n",
      "Epoch  428: training loss = 0.050732 | val accuracy = 94.56%\n",
      "Epoch  429: training loss = 0.050655 | val accuracy = 94.55%\n",
      "Epoch  430: training loss = 0.050579 | val accuracy = 94.56%\n",
      "Epoch  431: training loss = 0.050504 | val accuracy = 94.57%\n",
      "Epoch  432: training loss = 0.050428 | val accuracy = 94.57%\n",
      "Epoch  433: training loss = 0.050353 | val accuracy = 94.58%\n",
      "Epoch  434: training loss = 0.050279 | val accuracy = 94.59%\n",
      "Epoch  435: training loss = 0.050204 | val accuracy = 94.59%\n",
      "Epoch  436: training loss = 0.050130 | val accuracy = 94.59%\n",
      "Epoch  437: training loss = 0.050056 | val accuracy = 94.59%\n",
      "Epoch  438: training loss = 0.049983 | val accuracy = 94.60%\n",
      "Epoch  439: training loss = 0.049909 | val accuracy = 94.60%\n",
      "Epoch  440: training loss = 0.049836 | val accuracy = 94.60%\n",
      "Epoch  441: training loss = 0.049764 | val accuracy = 94.60%\n",
      "Epoch  442: training loss = 0.049691 | val accuracy = 94.60%\n",
      "Epoch  443: training loss = 0.049619 | val accuracy = 94.61%\n",
      "Epoch  444: training loss = 0.049547 | val accuracy = 94.61%\n",
      "Epoch  445: training loss = 0.049476 | val accuracy = 94.60%\n",
      "Epoch  446: training loss = 0.049404 | val accuracy = 94.60%\n",
      "Epoch  447: training loss = 0.049333 | val accuracy = 94.60%\n",
      "Epoch  448: training loss = 0.049262 | val accuracy = 94.61%\n",
      "Epoch  449: training loss = 0.049192 | val accuracy = 94.61%\n",
      "Epoch  450: training loss = 0.049121 | val accuracy = 94.61%\n",
      "Epoch  451: training loss = 0.049051 | val accuracy = 94.61%\n",
      "Epoch  452: training loss = 0.048982 | val accuracy = 94.61%\n",
      "Epoch  453: training loss = 0.048912 | val accuracy = 94.63%\n",
      "Epoch  454: training loss = 0.048843 | val accuracy = 94.63%\n",
      "Epoch  455: training loss = 0.048774 | val accuracy = 94.64%\n",
      "Epoch  456: training loss = 0.048705 | val accuracy = 94.65%\n",
      "Epoch  457: training loss = 0.048636 | val accuracy = 94.65%\n",
      "Epoch  458: training loss = 0.048568 | val accuracy = 94.67%\n",
      "Epoch  459: training loss = 0.048500 | val accuracy = 94.69%\n",
      "Epoch  460: training loss = 0.048432 | val accuracy = 94.69%\n",
      "Epoch  461: training loss = 0.048364 | val accuracy = 94.69%\n",
      "Epoch  462: training loss = 0.048297 | val accuracy = 94.69%\n",
      "Epoch  463: training loss = 0.048230 | val accuracy = 94.71%\n",
      "Epoch  464: training loss = 0.048163 | val accuracy = 94.72%\n",
      "Epoch  465: training loss = 0.048096 | val accuracy = 94.73%\n",
      "Epoch  466: training loss = 0.048030 | val accuracy = 94.73%\n",
      "Epoch  467: training loss = 0.047964 | val accuracy = 94.74%\n",
      "Epoch  468: training loss = 0.047898 | val accuracy = 94.74%\n",
      "Epoch  469: training loss = 0.047833 | val accuracy = 94.74%\n",
      "Epoch  470: training loss = 0.047767 | val accuracy = 94.75%\n",
      "Epoch  471: training loss = 0.047702 | val accuracy = 94.76%\n",
      "Epoch  472: training loss = 0.047637 | val accuracy = 94.76%\n",
      "Epoch  473: training loss = 0.047572 | val accuracy = 94.75%\n",
      "Epoch  474: training loss = 0.047508 | val accuracy = 94.75%\n",
      "Epoch  475: training loss = 0.047444 | val accuracy = 94.75%\n",
      "Epoch  476: training loss = 0.047380 | val accuracy = 94.75%\n",
      "Epoch  477: training loss = 0.047316 | val accuracy = 94.76%\n",
      "Epoch  478: training loss = 0.047252 | val accuracy = 94.76%\n",
      "Epoch  479: training loss = 0.047189 | val accuracy = 94.76%\n",
      "Epoch  480: training loss = 0.047126 | val accuracy = 94.76%\n",
      "Epoch  481: training loss = 0.047063 | val accuracy = 94.77%\n",
      "Epoch  482: training loss = 0.047000 | val accuracy = 94.77%\n",
      "Epoch  483: training loss = 0.046938 | val accuracy = 94.77%\n",
      "Epoch  484: training loss = 0.046876 | val accuracy = 94.77%\n",
      "Epoch  485: training loss = 0.046814 | val accuracy = 94.79%\n",
      "Epoch  486: training loss = 0.046752 | val accuracy = 94.79%\n",
      "Epoch  487: training loss = 0.046690 | val accuracy = 94.80%\n",
      "Epoch  488: training loss = 0.046628 | val accuracy = 94.80%\n",
      "Epoch  489: training loss = 0.046567 | val accuracy = 94.80%\n",
      "Epoch  490: training loss = 0.046506 | val accuracy = 94.79%\n",
      "Epoch  491: training loss = 0.046445 | val accuracy = 94.80%\n",
      "Epoch  492: training loss = 0.046384 | val accuracy = 94.81%\n",
      "Epoch  493: training loss = 0.046323 | val accuracy = 94.81%\n",
      "Epoch  494: training loss = 0.046263 | val accuracy = 94.81%\n",
      "Epoch  495: training loss = 0.046203 | val accuracy = 94.81%\n",
      "Epoch  496: training loss = 0.046142 | val accuracy = 94.81%\n",
      "Epoch  497: training loss = 0.046082 | val accuracy = 94.82%\n",
      "Epoch  498: training loss = 0.046022 | val accuracy = 94.83%\n",
      "Epoch  499: training loss = 0.045963 | val accuracy = 94.83%\n"
     ]
    }
   ],
   "source": [
    "losses, accuracies = mnist_classifier.train(X_train, y_train, X_test, y_test, batch_size=30, num_epochs=500)\n",
    "# note: Reduce the batch size and/or number of epochs if your computer can't handle the computations / takes too long.\n",
    "#       Remember, numpy also uses the CPU, not the GPU as modern Deep Learning libraries do, hence the lack of performance here."
   ]
  },
  {
   "cell_type": "markdown",
   "metadata": {},
   "source": [
    "Almost **95%** of accuracy! This is much better.\n",
    "\n",
    "Congratulations for implementing and training your first neural network classifier!"
   ]
  },
  {
   "cell_type": "markdown",
   "metadata": {},
   "source": [
    "Finally, we can plot the evolution of the loss and accuracy during the training, to better visualize the evolution:"
   ]
  },
  {
   "cell_type": "code",
   "execution_count": 47,
   "metadata": {
    "collapsed": false
   },
   "outputs": [
    {
     "data": {
      "image/png": "[encoded data removed]",
      "text/plain": [
       "<matplotlib.figure.Figure at 0xee97048>"
      ]
     },
     "metadata": {},
     "output_type": "display_data"
    }
   ],
   "source": [
    "losses, accuracies = [loss_untrained] + losses, [accuracy_untrained] + accuracies\n",
    "fig, ax_loss = plt.subplots()\n",
    "\n",
    "color = 'red'\n",
    "ax_loss.set_xlim([0, 510])\n",
    "ax_loss.set_xlabel('Epochs')\n",
    "ax_loss.set_ylabel('Training Loss', color=color)\n",
    "ax_loss.plot(losses, color=color)\n",
    "ax_loss.tick_params(axis='y', labelcolor=color)\n",
    "\n",
    "ax_acc = ax_loss.twinx()  # instantiate a second axes that shares the same x-axis\n",
    "color = 'blue'\n",
    "ax_acc.set_xlim([0, 510])\n",
    "ax_acc.set_ylim([0, 1])\n",
    "ax_acc.set_ylabel('Val Accuracy', color=color)\n",
    "ax_acc.plot(accuracies, color=color)\n",
    "ax_acc.tick_params(axis='y', labelcolor=color)\n",
    "\n",
    "fig.tight_layout()\n",
    "plt.show()"
   ]
  },
  {
   "cell_type": "markdown",
   "metadata": {},
   "source": [
    "As we can see, our network *converged* quite fast, though the accuracy slowly kept increasing. It looks even like the accuracy could still go up a bit with some further training iterations... Feel free to try. "
   ]
  },
  {
   "cell_type": "markdown",
   "metadata": {},
   "source": [
    "In any case,this is it for chapter 1!"
   ]
  }
 ],
 "metadata": {
  "anaconda-cloud": {},
  "kernelspec": {
   "display_name": "Python [conda root]",
   "language": "python",
   "name": "conda-root-py"
  },
  "language_info": {
   "codemirror_mode": {
    "name": "ipython",
    "version": 3
   },
   "file_extension": ".py",
   "mimetype": "text/x-python",
   "name": "python",
   "nbconvert_exporter": "python",
   "pygments_lexer": "ipython3",
   "version": "3.5.2"
  }
 },
 "nbformat": 4,
 "nbformat_minor": 0
}
