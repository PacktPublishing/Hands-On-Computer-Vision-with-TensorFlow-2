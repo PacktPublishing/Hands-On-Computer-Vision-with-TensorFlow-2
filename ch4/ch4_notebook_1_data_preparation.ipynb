{
 "cells": [
  {
   "cell_type": "markdown",
   "metadata": {},
   "source": [
    "# Chapter 4: Influential Classification Tools - Dataset Preparation"
   ]
  },
  {
   "cell_type": "markdown",
   "metadata": {},
   "source": [
    "Chapter 4 covered several advanced classification methods, which pushed forward computer vision as a whole with their contributions. In the following notebooks, we will re-implement and apply some of these CNNs to more complex classification tasks, on larger datasets. However, to do so, we need first to set up proper input pipelines, to efficiently pre-process such datasets and prepare the training batches. With this notebook, we will therefore quickly introduce the `tf.data` API."
   ]
  },
  {
   "cell_type": "code",
   "execution_count": 96,
   "metadata": {},
   "outputs": [],
   "source": [
    "import os\n",
    "import glob\n",
    "import tensorflow as tf\n",
    "from matplotlib import pyplot as plt"
   ]
  },
  {
   "cell_type": "markdown",
   "metadata": {},
   "source": [
    "## Tiny-ImageNet"
   ]
  },
  {
   "cell_type": "markdown",
   "metadata": {},
   "source": [
    "### Presentation"
   ]
  },
  {
   "cell_type": "markdown",
   "metadata": {},
   "source": [
    "As presented in the chapter, the ImageNet dataset ([http://image-net.org](http://image-net.org)) and its yearly competition pushed forward the development of performant CNNs for image recognition.\n",
    "While it could be interesting to reuse this dataset to reproduce the results listed in the book, its huge size makes ImageNet difficult to deploy on most machines (memory-wise). Training on such a dataset would also be a long, expensive task.\n",
    "\n",
    "To illustrate some concepts of Chapter 4, we will therefore use only a portion of ImageNet. Luckily for us, the people at Standford University already compiled such a dataset for one of their famous classes (\"_CS231n: Convolutional Neural Networks for Visual Recognition_\" - http://cs231n.stanford.edu/). This dataset, Tiny-ImageNet ([https://tiny-imagenet.herokuapp.com](https://tiny-imagenet.herokuapp.com)) contains 200 different classes (against the 1,000 of ImageNet). For each class, it offers 500 training images, 50 validation images, and 50 test ones."
   ]
  },
  {
   "cell_type": "markdown",
   "metadata": {},
   "source": [
    "### Setup"
   ]
  },
  {
   "cell_type": "markdown",
   "metadata": {},
   "source": [
    "Tiny-ImageNet can be downloaded at [https://tiny-imagenet.herokuapp.com](https://tiny-imagenet.herokuapp.com) or [http://image-net.org/download-images](http://image-net.org/download-images) (users need the proper access).\n",
    "\n",
    "Once downloaded, we invite our readers to unzip the archive (`unzip tiny-imagenet-200.zip`) at a proper location; and to edit the following path to the directory accordingly:"
   ]
  },
  {
   "cell_type": "code",
   "execution_count": 97,
   "metadata": {
    "scrolled": true
   },
   "outputs": [],
   "source": [
    "ROOT_FOLDER = os.path.expanduser('~/datasets/tiny-imagenet-200/')"
   ]
  },
  {
   "cell_type": "markdown",
   "metadata": {},
   "source": [
    "Let us have a look at the directory structure of the dataset:"
   ]
  },
  {
   "cell_type": "markdown",
   "metadata": {},
   "source": [
    "    - <ROOT_FOLDER>/tiny-imagenet-200/\n",
    "         - wnids.txt                             <-- File with the list of class IDs in the dataset\n",
    "         \n",
    "         - words.txt                             <-- File with the mapping from class IDs to readable labels\n",
    "         \n",
    "         - train/                                <-- Training folder\n",
    "                 - <class_i>/                    <--     Folder containing training data of class <class_i> \n",
    "                         - images/               <--          Sub-folder with all the images for this class\n",
    "                                 - ***.JPEG\n",
    "                         - n01443537_boxes.txt   <--     Annotations for detection tasks (unused)\n",
    "                         \n",
    "         - val/                                  <-- Validation folder\n",
    "                 - images/                       <--      Folder with all the validation images\n",
    "                 - val_annotations.txt           <--      File with the list of eval image filenames and\n",
    "                                                          the corresponding class IDs\n",
    "         \n",
    "         - test/                                <-- Test folder\n",
    "                 - images/                      <--      Folder containing all the test images"
   ]
  },
  {
   "cell_type": "markdown",
   "metadata": {},
   "source": [
    "Finally, we define some additional dataset-related constants useful for later:"
   ]
  },
  {
   "cell_type": "code",
   "execution_count": 98,
   "metadata": {},
   "outputs": [],
   "source": [
    "IMAGENET_IDS_FILE_BASENAME = 'wnids.txt' # File in ROOT_FOLDER containing the list of class IDs\n",
    "IMAGENET_WORDS_FILE_BASENAME = 'words.txt' # File in ROOT_FOLDER containing the mapping from class IDs to readable labels\n",
    "IMG_HEIGHT, IMG_WIDTH, IMG_CHANNELS = 64, 64, 3 # Image dimensions"
   ]
  },
  {
   "cell_type": "markdown",
   "metadata": {},
   "source": [
    "## Input Pipeline"
   ]
  },
  {
   "cell_type": "markdown",
   "metadata": {},
   "source": [
    "Datasets come in all forms and sizes. As training a CNN is a complex and heavy process, it is important to have an efficient data pipeline to provide the training batches on time to avoid performance bottlenecks.\n",
    "\n",
    "In the following section, we will set up an input pipeline for a Tensorflow model, using Tiny-ImageNet as an example."
   ]
  },
  {
   "cell_type": "markdown",
   "metadata": {},
   "source": [
    "### Parsing the Labels"
   ]
  },
  {
   "cell_type": "markdown",
   "metadata": {},
   "source": [
    "Our dataset is mainly organized by class. Therefore, let us start by listing and parsing those various classes.\n",
    "\n",
    "We will use the two text files at the root of Tiny-ImageNet to:\n",
    " - List the IDs corresponding to the 200 classes. This list will allow us to assign to each ID (IDs are 9-character-long strings) an integer from 0 to 199 (the ID position in the list);\n",
    " - Build a dictionary to map the IDs to human-readable labels (e.g., '_n01443537_' --> '_goldfish, Carassius auratus_')\n",
    "\n",
    "The first list is the most important, as it defines the categories (mapping the string IDs to numbers) which will be the target of our recognition models. The second structure, the dictionary, will simply allow us at the end to get understandable results."
   ]
  },
  {
   "cell_type": "code",
   "execution_count": 99,
   "metadata": {},
   "outputs": [],
   "source": [
    "def _get_class_information(ids_file, words_file):\n",
    "    \"\"\"\n",
    "    Extract the class IDs and corresponding human-readable labels from metadata files.\n",
    "    :param ids_file:        IDs filename (contains list of unique string class IDs)\n",
    "    :param words_file:      Words filename (contains list of tuples <ID, human-readable label>)\n",
    "    :return:                List of IDs, Dictionary of labels\n",
    "    \"\"\"\n",
    "    with open(ids_file, \"r\") as f:\n",
    "        class_ids = [line[:-1] for line in f.readlines()] # removing the `\\n` for each line\n",
    "\n",
    "    with open(words_file, \"r\") as f:\n",
    "        words_lines = f.readlines()\n",
    "        class_readable_labels = {}\n",
    "        for line in words_lines:\n",
    "            # We split the line between the ID (9-char long) and the human readable label:\n",
    "            class_id = line[:9]\n",
    "            class_label = line[10:-1]\n",
    "\n",
    "            # If this class is in our dataset, we add it to our id-to-label dictionary:\n",
    "            if class_id in class_ids:\n",
    "                class_readable_labels[class_id] = class_label\n",
    "\n",
    "    return class_ids, class_readable_labels\n"
   ]
  },
  {
   "cell_type": "markdown",
   "metadata": {},
   "source": [
    "We can directly test this function:"
   ]
  },
  {
   "cell_type": "code",
   "execution_count": 100,
   "metadata": {},
   "outputs": [],
   "source": [
    "ids_file = os.path.join(ROOT_FOLDER, IMAGENET_IDS_FILE_BASENAME)\n",
    "words_file = os.path.join(ROOT_FOLDER, IMAGENET_WORDS_FILE_BASENAME)\n",
    "class_ids, class_readable_labels = _get_class_information(ids_file, words_file)\n"
   ]
  },
  {
   "cell_type": "code",
   "execution_count": 101,
   "metadata": {},
   "outputs": [
    {
     "name": "stdout",
     "output_type": "stream",
     "text": [
      "\"n02124075\" --> \"Egyptian cat\"\n",
      "\"n04067472\" --> \"reel\"\n",
      "\"n04540053\" --> \"volleyball\"\n",
      "\"n04099969\" --> \"rocking chair, rocker\"\n",
      "\"n07749582\" --> \"lemon\"\n",
      "\"n01641577\" --> \"bullfrog, Rana catesbeiana\"\n",
      "\"n02802426\" --> \"basketball\"\n",
      "\"n09246464\" --> \"cliff, drop, drop-off\"\n",
      "\"n07920052\" --> \"espresso\"\n",
      "\"n03970156\" --> \"plunger, plumber's helper\"\n"
     ]
    }
   ],
   "source": [
    "# Let's for example print the 10 first IDs and their human-readable labels:\n",
    "for i in range(10):\n",
    "    id = class_ids[i]\n",
    "    print('\"{}\" --> \"{}\"'.format(id, class_readable_labels[id]))\n"
   ]
  },
  {
   "cell_type": "markdown",
   "metadata": {},
   "source": [
    "### Listing All Images and Labels"
   ]
  },
  {
   "cell_type": "markdown",
   "metadata": {},
   "source": [
    "Now that we have the categories defined, we can list all the images along with their respective categorical labels.\n",
    "\n",
    "Since the dataset structure is different for training/validation/testing splits, we have to cover them separately. This happens often in practice, as defining a normalized structure for datasets is a complicated task (image format, annotation types, folder structure, etc. are heavily affected by the use-cases).\n",
    "\n",
    "In this example, we will cover only the training and validation split:"
   ]
  },
  {
   "cell_type": "code",
   "execution_count": 102,
   "metadata": {},
   "outputs": [],
   "source": [
    "def _get_train_image_files_and_labels(root_folder, class_ids):\n",
    "    \"\"\"\n",
    "    Fetch the lists of training images and numerical labels.\n",
    "    We assume the images are stored as \"<root_folder>/train/<class_id>/images/*.JPEG\"\n",
    "    :param root_folder:     Dataset root folder\n",
    "    :param class_ids:       List of class IDs\n",
    "    :return:                List of image filenames and List of corresponding labels\n",
    "    \"\"\"\n",
    "    image_files, labels = [], []\n",
    "\n",
    "    for i in range(len(class_ids)):\n",
    "        class_id = class_ids[i]\n",
    "        # Grabbing all the image files for this class:\n",
    "        class_image_paths = os.path.join(root_folder, 'train', class_id, 'images', '*.JPEG')\n",
    "        class_images = glob.glob(class_image_paths)\n",
    "        # Creating as many numerical labels:\n",
    "        class_labels = [i] * len(class_images)\n",
    "\n",
    "        image_files += class_images\n",
    "        labels += class_labels\n",
    "\n",
    "    return image_files, labels"
   ]
  },
  {
   "cell_type": "code",
   "execution_count": 103,
   "metadata": {},
   "outputs": [],
   "source": [
    "def _get_val_image_files_and_labels(root_folder, class_ids):\n",
    "    \"\"\"\n",
    "    Fetch the lists of validation images and numerical labels.\n",
    "    We assume the images are stored as \"<root_folder>/train/<class_id>/images/*.JPEG\"\n",
    "    :param root_folder:     Dataset root folder\n",
    "    :param class_ids:       List of class IDs\n",
    "    :return:                List of image filenames and List of corresponding labels\n",
    "    \"\"\"\n",
    "    image_files, labels = [], []\n",
    "\n",
    "    # The file 'val_annotations.txt' contains for each line the image filename and its annotations.\n",
    "    # We parse it to build our dataset lists:\n",
    "    val_annotation_file = os.path.join(root_folder, 'val', 'val_annotations.txt')\n",
    "    with open(val_annotation_file, \"r\") as f:\n",
    "        anno_lines = f.readlines()\n",
    "        for line in anno_lines:\n",
    "            split_line = line.split('\\t')   # Splitting the line to extract the various pieces of info\n",
    "            if len(split_line) > 1:\n",
    "                image_file, image_class_id = split_line[0], split_line[1]\n",
    "                class_num_id = class_ids.index(image_class_id)\n",
    "                if class_num_id >= 0: # If the label belongs to our dataset, we add them:\n",
    "                    image_files.append(image_file)\n",
    "                    labels.append(class_num_id)\n",
    "\n",
    "    return image_files, labels\n"
   ]
  },
  {
   "cell_type": "markdown",
   "metadata": {},
   "source": [
    "If we call the method for the training data, we obtain our list of 500 * 200 = 100,000 images and their labels:"
   ]
  },
  {
   "cell_type": "code",
   "execution_count": 104,
   "metadata": {},
   "outputs": [
    {
     "name": "stdout",
     "output_type": "stream",
     "text": [
      "Number of training images: 100000\n"
     ]
    }
   ],
   "source": [
    "image_files, image_labels = _get_train_image_files_and_labels(ROOT_FOLDER, class_ids)\n",
    "print(\"Number of training images: {}\".format(len(image_files)))"
   ]
  },
  {
   "cell_type": "markdown",
   "metadata": {},
   "source": [
    "### Building an Iterable Dataset with Tensorflow"
   ]
  },
  {
   "cell_type": "markdown",
   "metadata": {},
   "source": [
    "We need to convert this list of filenames into images, and generate a list of batches our model could iterate over during its training. There are however lots of elements to take into consideration. \n",
    "\n",
    "For instance, pre-loading all the images may not be possible for modest machines (at least for bigger datasets); but loading images on the fly would cause continuous delays. Also, in several papers we presented in Chapter 4, data scientists are applying random transformations to the images at each iteration (cropping, scaling, etc.). Those operations are also consuming.\n",
    "\n",
    "All in all, we would probably need some multi-thread pipeline for our inputs. Thankfully, Tensorflow provides us with an efficient solution. Its **`tf.data`** API contains several methods to build **`tf.data.Dataset()`** instances, a dataset structure which can be converted into batch iterators for TF models."
   ]
  },
  {
   "cell_type": "markdown",
   "metadata": {},
   "source": [
    "For instance, a `Dataset` can be created from tensors containing lists of elements. Therefore, we can easily wrap our `image_files` and `image_labels` into a `Dataset`, first converting them into tensors: "
   ]
  },
  {
   "cell_type": "code",
   "execution_count": 105,
   "metadata": {},
   "outputs": [
    {
     "data": {
      "text/plain": [
       "<TensorSliceDataset shapes: ((), ()), types: (tf.string, tf.int32)>"
      ]
     },
     "execution_count": 105,
     "metadata": {},
     "output_type": "execute_result"
    }
   ],
   "source": [
    "image_files = tf.constant(image_files)\n",
    "image_labels = tf.constant(image_labels)\n",
    "dataset = tf.data.Dataset.from_tensor_slices((image_files, image_labels))\n",
    "dataset\n"
   ]
  },
  {
   "cell_type": "markdown",
   "metadata": {},
   "source": [
    "This object has multiple methods to transform its content, batch the elements, shuffle them, etc. Once defined, those operations will be applied only when necessary / called by the framework (like any other operation in TF graphs).\n",
    "\n",
    "Our goal is to have this dataset output batches of images and their labels. So first thing first, let us add an operation to obtain the images from the filenames:\n"
   ]
  },
  {
   "cell_type": "code",
   "execution_count": 106,
   "metadata": {},
   "outputs": [],
   "source": [
    "def _parse_function(filename, label):\n",
    "    \"\"\"\n",
    "    Parse the provided tensors, loading and resizing the corresponding image.\n",
    "    Code snippet from https://www.tensorflow.org/guide/datasets#decoding_image_data_and_resizing_it (Apache 2.0 License).\n",
    "    :param filename:    Image filename (String Tensor)\n",
    "    :param label:       Image label\n",
    "    :return:            Image, Label\n",
    "    \"\"\"\n",
    "    # Reading the file and returning its content as bytes:\n",
    "    image_string = tf.read_file(filename)\n",
    "    # Decoding those into the image \n",
    "    # (with `channels=3`, TF will duplicate the channels of grayscale images so they have 3 channels too):\n",
    "    image_decoded = tf.image.decode_jpeg(image_string, channels=3)\n",
    "    # Converting to float:\n",
    "    image_float = tf.image.convert_image_dtype(image_decoded, tf.float32)\n",
    "    # Resizing the image to the expected dimensions:\n",
    "    image_resized = tf.image.resize_images(image_float, [IMG_HEIGHT, IMG_WIDTH])\n",
    "    return image_resized, label\n",
    "\n",
    "dataset = dataset.map(_parse_function)\n"
   ]
  },
  {
   "cell_type": "markdown",
   "metadata": {},
   "source": [
    "\n",
    "`dataset.map(fn)` tells the dataset to apply the function `fn` to each element requested at a given iteration. These functions can be chained. For example, we can add another function to randomly transform the training images, to artificially increase the number of different images our model can train on:"
   ]
  },
  {
   "cell_type": "code",
   "execution_count": 107,
   "metadata": {},
   "outputs": [
    {
     "data": {
      "text/plain": [
       "<MapDataset shapes: ((64, 64, 3), ()), types: (tf.float32, tf.int32)>"
      ]
     },
     "execution_count": 107,
     "metadata": {},
     "output_type": "execute_result"
    }
   ],
   "source": [
    "def _training_augmentation_fn(image, label):\n",
    "    \"\"\"\n",
    "    Apply random transformations to augment the training images.\n",
    "    :param images:      Images\n",
    "    :param label:      Labels\n",
    "    :return:            Augmented Images, Labels\n",
    "    \"\"\"\n",
    "\n",
    "    # Randomly applied horizontal flip:\n",
    "    image = tf.image.random_flip_left_right(image)\n",
    "\n",
    "    # Random B/S changes:\n",
    "    image = tf.image.random_brightness(image, max_delta=0.1)\n",
    "    image = tf.image.random_saturation(image, lower=0.5, upper=1.5)\n",
    "    image = tf.clip_by_value(image, 0.0, 1.0) # keeping pixel values in check\n",
    "\n",
    "    # Random resize and random crop back to expected size:\n",
    "    original_shape = tf.shape(image)\n",
    "    random_scale_factor = tf.random_uniform([1], minval=0.7, maxval=1.3, dtype=tf.float32)\n",
    "    scaled_height = tf.cast(tf.multiply(tf.to_float(original_shape[0]), random_scale_factor), tf.int32)\n",
    "    scaled_width = tf.cast(tf.multiply(tf.to_float(original_shape[1]), random_scale_factor), tf.int32)\n",
    "    scaled_shape = tf.squeeze(tf.stack([scaled_height, scaled_width]))\n",
    "    image = tf.image.resize_images(image, scaled_shape)\n",
    "    image = tf.image.random_crop(image, original_shape)\n",
    "\n",
    "    return image, label\n",
    "\n",
    "dataset.map(_training_augmentation_fn)\n"
   ]
  },
  {
   "cell_type": "markdown",
   "metadata": {},
   "source": [
    "We can also specify if we want the dataset to be suffled, or sepcify how many elements we want at each iteration in a batch, how many times we want the dataset to be repeated (for multiple epochs), how many batches to pre-fetch, etc:\n"
   ]
  },
  {
   "cell_type": "code",
   "execution_count": 108,
   "metadata": {},
   "outputs": [],
   "source": [
    "batch_size = 32\n",
    "num_epochs = 30\n",
    "\n",
    "dataset = dataset.shuffle(buffer_size=10000)\n",
    "dataset = dataset.batch(batch_size)\n",
    "dataset = dataset.repeat(num_epochs)\n",
    "dataset = dataset.prefetch(1)\n"
   ]
  },
  {
   "cell_type": "markdown",
   "metadata": {},
   "source": [
    "(For more detailed explanations on `Dataset` and its methods, as well as performance recommendations, we invite our reader to check the official tutorial: [https://www.tensorflow.org/guide/datasets](https://www.tensorflow.org/guide/datasets))\n"
   ]
  },
  {
   "cell_type": "markdown",
   "metadata": {},
   "source": [
    "Finally, we can convert our dataset into an iterator. This iterator can then be passed to `session.run()`, to generate a new batch at each call, until the last one is returned:"
   ]
  },
  {
   "cell_type": "code",
   "execution_count": 109,
   "metadata": {},
   "outputs": [],
   "source": [
    "iterator = dataset.make_one_shot_iterator()\n",
    "images, labels = iterator.get_next()\n"
   ]
  },
  {
   "cell_type": "code",
   "execution_count": 110,
   "metadata": {},
   "outputs": [],
   "source": [
    "# Example:\n",
    "session = tf.Session()\n",
    "batch = session.run([images, labels])\n"
   ]
  },
  {
   "cell_type": "code",
   "execution_count": 111,
   "metadata": {},
   "outputs": [
    {
     "name": "stdout",
     "output_type": "stream",
     "text": [
      "school bus\n"
     ]
    },
    {
     "data": {
      "text/plain": [
       "<matplotlib.image.AxesImage at 0x7fb3d4478438>"
      ]
     },
     "execution_count": 111,
     "metadata": {},
     "output_type": "execute_result"
    },
    {
     "data": {
      "image/png": "[encoded data removed]",
      "text/plain": [
       "<Figure size 432x288 with 1 Axes>"
      ]
     },
     "metadata": {
      "needs_background": "light"
     },
     "output_type": "display_data"
    }
   ],
   "source": [
    "# Displaying an example:\n",
    "batch_imgs, batch_labels = batch\n",
    "\n",
    "i = 0\n",
    "class_id = class_ids[batch_labels[i]]\n",
    "readable_label = class_readable_labels[class_id]\n",
    "print(readable_label)\n",
    "plt.imshow(batch_imgs[i])\n"
   ]
  },
  {
   "cell_type": "markdown",
   "metadata": {},
   "source": [
    "### Wrapping Up for Estimators\n"
   ]
  },
  {
   "cell_type": "markdown",
   "metadata": {},
   "source": [
    "To pass our dataset to an Estimator, we just need to wrap the iterable inputs (`images` here) into a dictionary in order to name the content.\n"
   ]
  },
  {
   "cell_type": "code",
   "execution_count": 112,
   "metadata": {},
   "outputs": [],
   "source": [
    "images = {'image': images}"
   ]
  },
  {
   "cell_type": "markdown",
   "metadata": {},
   "source": [
    "We know have our input pipeline ready. We will reuse these variables in the next notebooks. For clarity, we wrap their definition into easy-to-call functions:"
   ]
  },
  {
   "cell_type": "code",
   "execution_count": 113,
   "metadata": {},
   "outputs": [],
   "source": [
    "def _input_fn(image_files, image_labels,\n",
    "              shuffle=True, batch_size=32, num_epochs=None,\n",
    "              augmentation_fn=None, wrap_for_estimator=True):\n",
    "    \"\"\"\n",
    "    Prepares and returns the iterators for a dataset.\n",
    "    :param image_files:         List of image files\n",
    "    :param image_labels:        List of image labels\n",
    "    :param shuffle:             Flag to shuffle the dataset (if True)\n",
    "    :param batch_size:          Batch size\n",
    "    :param num_epochs:          Number of epochs (to repeat the iteration - infinite if None)\n",
    "    :param augmentation_fn:     opt. Augmentation function\n",
    "    :param wrap_for_estimator:  Flag to wrap the inputs to be passed for Estimators\n",
    "    :return:                    Iterable batched images and labels\n",
    "    \"\"\"\n",
    "\n",
    "    # Converting to TF dataset:\n",
    "    image_files = tf.constant(image_files)\n",
    "    image_labels = tf.constant(image_labels)\n",
    "    dataset = tf.data.Dataset.from_tensor_slices((image_files, image_labels))\n",
    "    # Adding parsing operation, to open and decode images:\n",
    "    dataset = dataset.map(_parse_function)\n",
    "    # Opt. adding some further transformations:\n",
    "    if augmentation_fn is not None:\n",
    "        dataset.map(augmentation_fn)\n",
    "    # Further preparing for iterating on:\n",
    "    if shuffle:\n",
    "        dataset = dataset.shuffle(buffer_size=10000)\n",
    "    dataset = dataset.batch(batch_size)\n",
    "    dataset = dataset.repeat(num_epochs)\n",
    "    dataset = dataset.prefetch(1)\n",
    "    # Converting into iterable elements:\n",
    "    iterator = dataset.make_one_shot_iterator()\n",
    "    images, labels = iterator.get_next()\n",
    "    if wrap_for_estimator:\n",
    "        images = {'image': images}\n",
    "    return images, labels\n",
    "\n",
    "\n",
    "def tiny_imagenet(phase='train', shuffle=True, batch_size=32, num_epochs=None,\n",
    "                  augmentation_fn=_training_augmentation_fn, wrap_for_estimator=True,\n",
    "                  root_folder=ROOT_FOLDER):\n",
    "    \"\"\"\n",
    "    Instantiate a Tiny-Image training or validation dataset, which can be passed to any model.\n",
    "    :param phase:               Phase ('train' or 'val')\n",
    "    :param shuffle:             Flag to shuffle the dataset (if True)\n",
    "    :param batch_size:          Batch size\n",
    "    :param num_epochs:          Number of epochs (to repeat the iteration - infinite if None)\n",
    "    :param augmentation_fn:     opt. Augmentation function\n",
    "    :param wrap_for_estimator:  Flag to wrap the inputs to be passed for Estimators\n",
    "    :param root_folder:         Dataset root folder\n",
    "    :return:                    Iterator for the inputs, Iterator for the labels, IDs List, Dictionary to read labels\n",
    "    \"\"\"\n",
    "\n",
    "    ids_file = os.path.join(root_folder, IMAGENET_IDS_FILE_BASENAME)\n",
    "    words_file = os.path.join(root_folder, IMAGENET_WORDS_FILE_BASENAME)\n",
    "    class_ids, class_readable_labels = _get_class_information(ids_file, words_file)\n",
    "    if phase == 'train':\n",
    "        image_files, image_labels = _get_train_image_files_and_labels(root_folder, class_ids)\n",
    "    elif phase == 'val':\n",
    "        image_files, image_labels = _get_val_image_files_and_labels(root_folder, class_ids)\n",
    "    else:\n",
    "        raise ValueError(\"Unknown phase ('train' or 'val' only)\")\n",
    "\n",
    "    images, labels = _input_fn(image_files, image_labels,\n",
    "                               shuffle, batch_size, num_epochs,\n",
    "                               augmentation_fn, wrap_for_estimator)\n",
    "\n",
    "    return images, labels, class_ids, class_readable_labels"
   ]
  }
 ],
 "metadata": {
  "kernelspec": {
   "display_name": "Python 3",
   "language": "python",
   "name": "python3"
  },
  "language_info": {
   "codemirror_mode": {
    "name": "ipython",
    "version": 3
   },
   "file_extension": ".py",
   "mimetype": "text/x-python",
   "name": "python",
   "nbconvert_exporter": "python",
   "pygments_lexer": "ipython3",
   "version": "3.6.7"
  }
 },
 "nbformat": 4,
 "nbformat_minor": 2
}
